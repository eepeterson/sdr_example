{
 "cells": [
  {
   "cell_type": "markdown",
   "id": "fa4750fb-ee60-4931-bcdf-6dfee89c8f02",
   "metadata": {},
   "source": [
    "# Performing Shutdown Dose Rate Calculations\n",
    "\n",
    "In this module, we'll be introducing [OpenMC's depletion capabilities](https://openmc.readthedocs.io/en/stable/) for performing shutdown dose rate (SDR) calculations using the Rigorous 2-Step (R2S) method. The R2S process allows one to calculate dose rate maps from the transport of radioactive decay products like gamma rays. The process couples an initial neutron transport simulation for computing flux spectrum integrated reaction rates for a defined spatial discretization to an inventory solver to compute nuclide inventories given an irradiation scenario. Once the new (likely radioactive) material compositions are computed, they are turned into photon sources based on the nuclear data contained in depletion chains. These photon sources are then used for a second transport simulation to compute the dose rate at desired locations. In this tutorial, we will only consider cell-wise spatial discretization for simplicity. However, mesh-based R2S calculations are currently feasible in OpenMC."
   ]
  },
  {
   "cell_type": "code",
   "execution_count": 1,
   "id": "36edb46b-9e22-480d-abd3-3c823a9749e2",
   "metadata": {},
   "outputs": [],
   "source": [
    "import openmc\n",
    "import numpy as np\n",
    "from matplotlib import pyplot as plt"
   ]
  },
  {
   "cell_type": "markdown",
   "id": "c99d267d-3b57-4709-8c97-7457bf884a0e",
   "metadata": {},
   "source": [
    "We will create a simple slab geometry irradiated by a monoenergetic, monodirectional 14 MeV point neutron source. On the opposite side of the slab we will create a detector to measure the photon dose rate."
   ]
  },
  {
   "cell_type": "code",
   "execution_count": 2,
   "id": "cc6579ac-6a1b-4982-ab02-39d089ddac86",
   "metadata": {},
   "outputs": [],
   "source": [
    "model = openmc.model.Model()"
   ]
  },
  {
   "cell_type": "code",
   "execution_count": 5,
   "id": "e9db71fc-93fb-4b9f-9613-cbfdb9d0a2bb",
   "metadata": {},
   "outputs": [],
   "source": [
    "xmin = ymin = -10\n",
    "xmax = ymax = 10\n",
    "zmin = 1\n",
    "zmax = 16\n",
    "rpp = openmc.model.RectangularParallelepiped(xmin, xmax, ymin, ymax, zmin, zmax)\n",
    "#zplanes = [openmc.ZPlane(zi) for zi in (1,16)] "
   ]
  },
  {
   "cell_type": "markdown",
   "id": "2ff4bee6-6ed9-4e1b-9595-65ddc335746b",
   "metadata": {},
   "source": [
    "The subdivide function is very handy for splitting a region of space with a series of surfaces. It can be used to create a slab geometry or a series of nested spheres, cylinders, or even tori."
   ]
  },
  {
   "cell_type": "code",
   "execution_count": null,
   "id": "f75af1e9-ecc9-4669-91cf-10b36e0ac172",
   "metadata": {},
   "outputs": [],
   "source": [
    "slabs = openmc.model.subdivide(rpp, zplanes)"
   ]
  },
  {
   "cell_type": "code",
   "execution_count": null,
   "id": "d515b83d-b803-4a96-995a-c5410a2bfb85",
   "metadata": {},
   "outputs": [],
   "source": [
    "detector_sphere = openmc.Sphere(z0=25, r=2)\n",
    "boundary = openmc.Sphere(r=100, boundary_type='vacuum')"
   ]
  },
  {
   "cell_type": "code",
   "execution_count": null,
   "id": "2d77eb2a-8164-49c2-ad3c-753cf1f99619",
   "metadata": {},
   "outputs": [],
   "source": []
  }
 ],
 "metadata": {
  "kernelspec": {
   "display_name": "Python 3 (ipykernel)",
   "language": "python",
   "name": "python3"
  },
  "language_info": {
   "codemirror_mode": {
    "name": "ipython",
    "version": 3
   },
   "file_extension": ".py",
   "mimetype": "text/x-python",
   "name": "python",
   "nbconvert_exporter": "python",
   "pygments_lexer": "ipython3",
   "version": "3.12.2"
  }
 },
 "nbformat": 4,
 "nbformat_minor": 5
}
