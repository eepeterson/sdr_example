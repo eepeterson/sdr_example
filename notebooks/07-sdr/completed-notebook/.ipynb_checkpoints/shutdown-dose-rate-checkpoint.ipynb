{
 "cells": [
  {
   "cell_type": "markdown",
   "id": "fa4750fb-ee60-4931-bcdf-6dfee89c8f02",
   "metadata": {},
   "source": [
    "# Performing Shutdown Dose Rate Calculations\n",
    "\n",
    "In this module, we'll be learning how to calculate the Shutdown Dose Rate (SDR) for a very simple system. In this section, we will introduce [OpenMC's depletion capabilities](https://openmc.readthedocs.io/en/stable/) for performing SDR calculations using the Rigorous 2-Step (R2S) method. The R2S process allows one to calculate dose rate maps from the transport of radioactive decay products like gamma rays after a given irradiation scenario. The process couples an initial neutron transport simulation for computing flux spectrum integrated reaction rates for a defined spatial discretization to an inventory solver to compute nuclide inventories given an irradiation scenario. Once the new (likely radioactive) material compositions are computed, they are turned into photon sources based on the nuclear data contained in depletion chains. These photon sources are then used for a second transport simulation to compute the dose rate at desired locations. In this tutorial, we will only consider cell-wise spatial discretization for simplicity. However, mesh-based R2S calculations are currently feasible in OpenMC.\n",
    "\n",
    "### Task Outline for this tutorial\n",
    "1. Build a steel slab activation model between a 14 MeV neutron source and a photon detector\n",
    "2. Calculate volume averaged fluxes and microscopic cross sections in the model for use in depletion\n",
    "3. Define an irradiation scenario and solve the Bateman equations using CRAM\n",
    "4. Compute photon sources at different time points during the irradiation scenario\n",
    "5. Run photon transport at different time points to compute dose at the detector location as a function of time\n",
    "6. Change the spatial discretization of the problem to observe effects on the computed dose at the detector\n",
    "7. Compare results from the two types of simulations"
   ]
  },
  {
   "cell_type": "code",
   "execution_count": 1,
   "id": "36edb46b-9e22-480d-abd3-3c823a9749e2",
   "metadata": {},
   "outputs": [],
   "source": [
    "import openmc\n",
    "import openmc.deplete\n",
    "import math\n",
    "import numpy as np\n",
    "from uncertainties import ufloat\n",
    "from matplotlib import pyplot as plt"
   ]
  },
  {
   "cell_type": "markdown",
   "id": "a44cc1bb-8bfd-48f3-b539-3abbde58b3ae",
   "metadata": {},
   "source": [
    "## Task 1: Build steel slab activation model with detector\n",
    "We will create a simple slab geometry irradiated by a monoenergetic, monodirectional 14 MeV point neutron source. On the opposite side of the slab we will create a detector to measure the photon dose rate. Our neutron source will be at the origin and be irradiating a 20cm x 20cm x 15cm slab of steel. Let's start by creating an OpenMC `Model` object and defining some basic variables for the geometry of the system."
   ]
  },
  {
   "cell_type": "code",
   "execution_count": 2,
   "id": "cc6579ac-6a1b-4982-ab02-39d089ddac86",
   "metadata": {},
   "outputs": [],
   "source": [
    "model = openmc.model.Model()"
   ]
  },
  {
   "cell_type": "markdown",
   "id": "83dd3bf8-183b-4b35-90d5-f268c8bd5df3",
   "metadata": {},
   "source": [
    "We want the slab to extend from -10cm to +10cm in both $x$ and $y$ dimensions as well as from 1cm to 16cm in $z$. We also need to compute the volumes of each of these regions. For a more complicated system, we can run a stochastic volume calculation for each cell to get these values."
   ]
  },
  {
   "cell_type": "code",
   "execution_count": 3,
   "id": "e9db71fc-93fb-4b9f-9613-cbfdb9d0a2bb",
   "metadata": {},
   "outputs": [],
   "source": [
    "xmin = ymin = -10\n",
    "xmax = ymax = 10\n",
    "zmin = 1\n",
    "zmax = 16\n",
    "air_radius = 30\n",
    "detector_z0 = (air_radius - zmax) / 2 + zmax\n",
    "detector_radius = (detector_z0 - zmax) / 5"
   ]
  },
  {
   "cell_type": "markdown",
   "id": "f5b1eb29-bcdb-4c23-8a26-036570d10477",
   "metadata": {},
   "source": [
    "Now we can create the surfaces necessary to build our model using some of the handy composite surface capabilities similar to MCNP \"macrobodies\"."
   ]
  },
  {
   "cell_type": "code",
   "execution_count": 4,
   "id": "6e78bb71-5ab7-414b-8184-0bee7339402d",
   "metadata": {},
   "outputs": [],
   "source": [
    "rpp = openmc.model.RectangularParallelepiped(xmin, xmax, ymin, ymax, zmin, zmax)\n",
    "detector_sphere = openmc.Sphere(z0=detector_z0, r=detector_radius)\n",
    "boundary = openmc.Sphere(r=air_radius, boundary_type='vacuum')"
   ]
  },
  {
   "cell_type": "markdown",
   "id": "a7c7016d-db66-4c5c-8188-129edf45ac4a",
   "metadata": {},
   "source": [
    "Let's create a simple nickel-iron-chromium alloy with a little bit of manganese, molybdenum, and cobalt thrown in for a bit more spice to fill our slab. We also need to set the depletable attribute of the steel to let OpenMC know that this material should be considered during depletion calculations."
   ]
  },
  {
   "cell_type": "code",
   "execution_count": 5,
   "id": "04bd759d-91bb-488b-9610-a308ff39c203",
   "metadata": {},
   "outputs": [],
   "source": [
    "steel = openmc.Material(name='steel')\n",
    "steel.add_element('Fe', 69.9, percent_type='wo')\n",
    "steel.add_element('Ni', 10, percent_type='wo')\n",
    "steel.add_element('Cr', 15, percent_type='wo')\n",
    "steel.add_element('Mn', 2, percent_type='wo')\n",
    "steel.add_element('Mo', 3, percent_type='wo')\n",
    "steel.add_element('Co', .1, percent_type='wo')\n",
    "steel.set_density('g/cm3', 8.0)\n",
    "steel.depletable = True"
   ]
  },
  {
   "cell_type": "markdown",
   "id": "f49b5281-7e7f-4b30-a15f-86e53dcd29eb",
   "metadata": {},
   "source": [
    "When we get to the depletion portion of this tutorial we will need to assign a volume to the steel material. All materials that get depleted in OpenMC must meet two requirements:\n",
    "\n",
    "`material.depletable = True` and their `volume` attribute must be set.\n",
    "\n",
    "Let's create the `Cell` objects for our model and calculate their volumes."
   ]
  },
  {
   "cell_type": "code",
   "execution_count": 6,
   "id": "63522718-143c-4c09-8eff-ddf1a1c45ba9",
   "metadata": {},
   "outputs": [],
   "source": [
    "slab = openmc.Cell(region=-rpp, fill=steel)\n",
    "detector = openmc.Cell(region=-detector_sphere)\n",
    "air = openmc.Cell(region=+rpp & + detector_sphere & -boundary)\n",
    "cells = [slab, detector, air]"
   ]
  },
  {
   "cell_type": "markdown",
   "id": "ffdc59a5-cce8-4879-b1c3-122361f015a6",
   "metadata": {},
   "source": [
    "We can use the bounding box property of the slab cell to get the volume"
   ]
  },
  {
   "cell_type": "code",
   "execution_count": 7,
   "id": "c52016ec-4804-4df9-9c9f-7e5cd6fc278c",
   "metadata": {},
   "outputs": [
    {
     "name": "stdout",
     "output_type": "stream",
     "text": [
      "Help on BoundingBox in module openmc.bounding_box object:\n",
      "\n",
      "class BoundingBox(builtins.object)\n",
      " |  BoundingBox(lower_left: 'Iterable[float]', upper_right: 'Iterable[float]')\n",
      " |\n",
      " |  Axis-aligned bounding box.\n",
      " |\n",
      " |  .. versionadded:: 0.14.0\n",
      " |\n",
      " |  Parameters\n",
      " |  ----------\n",
      " |  lower_left : iterable of float\n",
      " |      The x, y, z coordinates of the lower left corner of the bounding box in [cm]\n",
      " |  upper_right : iterable of float\n",
      " |      The x, y, z coordinates of the upper right corner of the bounding box in [cm]\n",
      " |\n",
      " |  Attributes\n",
      " |  ----------\n",
      " |  center : numpy.ndarray\n",
      " |      x, y, z coordinates of the center of the bounding box in [cm]\n",
      " |  lower_left : numpy.ndarray\n",
      " |      The x, y, z coordinates of the lower left corner of the bounding box in [cm]\n",
      " |  upper_right : numpy.ndarray\n",
      " |      The x, y, z coordinates of the upper right corner of the bounding box in [cm]\n",
      " |  volume : float\n",
      " |      The volume of the bounding box in [cm^3]\n",
      " |  extent : dict\n",
      " |      A dictionary of basis as keys and the extent (left, right, bottom, top)\n",
      " |      as values. Intended use in Matplotlib plots when setting extent\n",
      " |  width : iterable of float\n",
      " |      The width of the x, y and z axis in [cm]\n",
      " |\n",
      " |  Methods defined here:\n",
      " |\n",
      " |  __and__(self, other: 'BoundingBox') -> 'BoundingBox'\n",
      " |\n",
      " |  __contains__(self, other)\n",
      " |      Check whether or not a point or another bounding box is in the bounding box.\n",
      " |\n",
      " |      For another bounding box to be in the parent it must lie fully inside of it.\n",
      " |\n",
      " |  __getitem__(self, key) -> 'np.ndarray'\n",
      " |\n",
      " |  __iand__(self, other: 'BoundingBox') -> 'BoundingBox'\n",
      " |      Updates the box be the intersection of itself and another box\n",
      " |\n",
      " |      Parameters\n",
      " |      ----------\n",
      " |      other : BoundingBox\n",
      " |          The box used to resize this box\n",
      " |\n",
      " |      Returns\n",
      " |      -------\n",
      " |      An updated bounding box\n",
      " |\n",
      " |  __init__(self, lower_left: 'Iterable[float]', upper_right: 'Iterable[float]')\n",
      " |      Initialize self.  See help(type(self)) for accurate signature.\n",
      " |\n",
      " |  __ior__(self, other: 'BoundingBox') -> 'BoundingBox'\n",
      " |      Updates the box be the union of itself and another box\n",
      " |\n",
      " |      Parameters\n",
      " |      ----------\n",
      " |      other : BoundingBox\n",
      " |          The box used to resize this box\n",
      " |\n",
      " |      Returns\n",
      " |      -------\n",
      " |      An updated bounding box\n",
      " |\n",
      " |  __len__(self)\n",
      " |\n",
      " |  __or__(self, other: 'BoundingBox') -> 'BoundingBox'\n",
      " |      Return self|value.\n",
      " |\n",
      " |  __repr__(self) -> 'str'\n",
      " |      Return repr(self).\n",
      " |\n",
      " |  __setitem__(self, key, val)\n",
      " |\n",
      " |  expand(self, padding_distance: 'float', inplace: 'bool' = False) -> 'BoundingBox'\n",
      " |      Returns an expanded bounding box\n",
      " |\n",
      " |      Parameters\n",
      " |      ----------\n",
      " |      padding_distance : float\n",
      " |          The distance to enlarge the bounding box by\n",
      " |      inplace : bool\n",
      " |          Whether or not to return a new BoundingBox instance or to modify the\n",
      " |          current BoundingBox object.\n",
      " |\n",
      " |      Returns\n",
      " |      -------\n",
      " |      An expanded bounding box\n",
      " |\n",
      " |  ----------------------------------------------------------------------\n",
      " |  Class methods defined here:\n",
      " |\n",
      " |  infinite() -> 'BoundingBox' from builtins.type\n",
      " |      Create an infinite box. Useful as a starting point for determining\n",
      " |         geometry bounds.\n",
      " |\n",
      " |      Returns\n",
      " |      -------\n",
      " |      An infinitely large bounding box.\n",
      " |\n",
      " |  ----------------------------------------------------------------------\n",
      " |  Readonly properties defined here:\n",
      " |\n",
      " |  center\n",
      " |\n",
      " |  extent\n",
      " |\n",
      " |  volume\n",
      " |\n",
      " |  width\n",
      " |\n",
      " |  ----------------------------------------------------------------------\n",
      " |  Data descriptors defined here:\n",
      " |\n",
      " |  __dict__\n",
      " |      dictionary for instance variables\n",
      " |\n",
      " |  __weakref__\n",
      " |      list of weak references to the object\n",
      " |\n",
      " |  lower_left\n",
      " |\n",
      " |  upper_right\n",
      "\n"
     ]
    }
   ],
   "source": [
    "slab_bb = slab.bounding_box\n",
    "help(slab_bb)"
   ]
  },
  {
   "cell_type": "code",
   "execution_count": 8,
   "id": "347c4473-6fdc-4ff9-bf66-a57c2c9c092a",
   "metadata": {},
   "outputs": [],
   "source": [
    "slab.volume = slab.bounding_box.volume\n",
    "slab.fill.volume = slab.volume\n",
    "detector.volume = 4/3*math.pi*detector_radius**3\n",
    "air.volume = 4/3*math.pi*air_radius**3 - detector.volume - slab.volume"
   ]
  },
  {
   "cell_type": "code",
   "execution_count": 9,
   "id": "4e9950cb-f0e3-46c9-a844-5d5efda6e50b",
   "metadata": {},
   "outputs": [],
   "source": [
    "model.geometry = openmc.Geometry(cells)"
   ]
  },
  {
   "cell_type": "code",
   "execution_count": 10,
   "id": "5c10d968-4196-4cee-8f12-33f3d45a5f65",
   "metadata": {},
   "outputs": [
    {
     "data": {
      "text/plain": [
       "<Axes: xlabel='x [cm]', ylabel='z [cm]'>"
      ]
     },
     "execution_count": 10,
     "metadata": {},
     "output_type": "execute_result"
    },
    {
     "data": {
      "image/png": "[encoded data removed]",
      "text/plain": [
       "<Figure size 250x250 with 1 Axes>"
      ]
     },
     "metadata": {},
     "output_type": "display_data"
    }
   ],
   "source": [
    "model.geometry.plot(color_by='cell', basis='xz')"
   ]
  },
  {
   "cell_type": "markdown",
   "id": "de648062-b241-4543-96db-5da3f186e804",
   "metadata": {},
   "source": [
    "So, we're happy with our geometry and materials, the only remaining need for our neutron transport simulation in support of shutdown dose rates is the neutron source and simulation settings. Let's create a simple, monoenergetic 14 MeV source pointing in the $z$-direction and run a fixed source simulation."
   ]
  },
  {
   "cell_type": "code",
   "execution_count": 11,
   "id": "a9f6fbc3-95a1-4e6f-b9fd-692a4d5c8b7c",
   "metadata": {},
   "outputs": [],
   "source": [
    "source = openmc.IndependentSource()\n",
    "source.energy = openmc.stats.Discrete([14e6], [1.0])\n",
    "source.angle = openmc.stats.Monodirectional((0, 0, 1))\n",
    "# source.space defaults to an openmc.stats.Point object located at the origin\n",
    "settings = openmc.Settings(run_mode='fixed source', particles=1000, batches=100)\n",
    "settings.source = source\n",
    "model.settings = settings"
   ]
  },
  {
   "cell_type": "markdown",
   "id": "9857e16d-5cd2-4ff2-b6ab-e9cd410e2bd1",
   "metadata": {},
   "source": [
    "It will become handy later to have a reference to this neutron source so let's assign it another variable name we will remember later on"
   ]
  },
  {
   "cell_type": "code",
   "execution_count": 12,
   "id": "f8bf0326-4a1d-4b41-be99-7424172cdc1f",
   "metadata": {},
   "outputs": [],
   "source": [
    "neutron_source = source"
   ]
  },
  {
   "cell_type": "markdown",
   "id": "ec8948f0-8d28-45b1-9b3b-23d7a31ff0fb",
   "metadata": {},
   "source": [
    "## Task 2: Compute flux-averaged microscopic cross sections and neutron fluxes in each cell\n",
    "Now we need to run our neutron transport calculation to get the reaction rates. The [`get_microxs_and_flux function`](https://docs.openmc.org/en/stable/pythonapi/generated/openmc.deplete.get_microxs_and_flux.html) does this for us. All we need to do is provide it the model object and the `domains` where we want to independently tally reaction rates. Tallies will be automatically generated under the hood based on the current depletion chain file and what cross sections are available. What we are calculating in this step is below. The cross section of transmuting nuclide i into nuclide j in volume k and the volume averaged flux $\\phi_k$ in volume $k$: \n",
    "$$ \n",
    " \\phi_k = \\int_{V_k} d\\mathbf{r} \\int d\\mathbf{\\Omega} \\int\n",
    "    dE  \\psi (\\mathbf{r}, \\mathbf{\\Omega}, E)\n",
    "$$\n",
    "$$ \n",
    " \\bar{\\sigma}_{ijk} = \\frac{1}{\\phi_k}\\int_{V_k} d\\mathbf{r} \\int d\\mathbf{\\Omega} \\int\n",
    "    dE \\sigma_{ij}(\\mathbf{r}, \\mathbf{\\Omega},\n",
    "    E) \\psi (\\mathbf{r}, \\mathbf{\\Omega}, E)\n",
    "$$\n",
    "$$ \n",
    " RR_{ij} = S_0\\bar{\\sigma}_{ijk}\\phi_k n_i\n",
    "$$"
   ]
  },
  {
   "cell_type": "markdown",
   "id": "121e3e74-92e8-4938-ab94-9d9b332b5a60",
   "metadata": {},
   "source": [
    "To do this takes only one line of code. This function below is telling OpenMC to run a neutron transport simulation, and compute the volume integrated neutron flux and flux-averaged microscopic cross sections to be used later in a depletion simulation. All that is required is the neutron transport model and the domains (in this case cells) which form the spatial discretization that we desire for the activation calculation. Let's run it and see what happens..."
   ]
  },
  {
   "cell_type": "code",
   "execution_count": 13,
   "id": "d2a7b65e-9a75-4ba0-a7e9-371cbe6375f3",
   "metadata": {},
   "outputs": [],
   "source": [
    "#fluxes, micros = openmc.deplete.get_microxs_and_flux(model, cells)"
   ]
  },
  {
   "cell_type": "markdown",
   "id": "6d92014d-32e2-418c-8888-02402f674bc8",
   "metadata": {},
   "source": [
    "As you probably noticed it's taking a very long time and loading a _whole_ lot of data that we probably don't care about. Why is that? It has to do with something called the depletion chain. The depletion chain is a file that catalogs for every nuclide in the nuclear data library, things like: \n",
    "1. half life\n",
    "2. types of radioactive decay, branching ratios, and decay energy\n",
    "3. particle emission spectra from decay\n",
    "4. types of neutron induced reactions, Q values, and daughter products\n",
    "\n",
    "For example, let's take a look at the section of the [official ENDF/B-VIII.0 depletion chain](https://openmc.org/depletion-chains/) pertaining to target nuclides Co58, Co58m, Co59, Co60. Co59 is stable whereas the other 3 nuclides are not."
   ]
  },
  {
   "cell_type": "code",
   "execution_count": 14,
   "id": "8310542c-df83-481f-9e6b-ec01148a3f05",
   "metadata": {},
   "outputs": [
    {
     "name": "stdout",
     "output_type": "stream",
     "text": [
      "  <nuclide name=\"Co58\" half_life=\"6122304.0\" decay_modes=\"1\" decay_energy=\"1008776.54\" reactions=\"4\"\n",
      "    <decay type=\"ec/beta+\" target=\"Fe58\" branching_ratio=\"1.0\"/>\n",
      "    <source type=\"discrete\" particle=\"photon\">\n",
      "      <parameters>619.9594 707.9362 726.02 741.741 6349.85 6362.71 7015.36 7016.95 7070.49 7070.66 5\n",
      "    </source>\n",
      "    <source type=\"discrete\" particle=\"positron\">\n",
      "      <parameters>632864.1 1496834.0 2307600.0 1.3699223176071195e-09 1.1185811981783752e-07 8.49125\n",
      "    </source>\n",
      "    <source type=\"discrete\" particle=\"electron\">\n",
      "      <parameters>40.23492 70.00108 628.9213 675.1537 5583.843 6258.984 6938.274 803647.2 809913.1 8\n",
      "    </source>\n",
      "    <reaction type=\"(n,2n)\" Q=\"-8572000.0\" target=\"Co57\"/>\n",
      "    <reaction type=\"(n,gamma)\" Q=\"10454000.0\" target=\"Co59\"/>\n",
      "    <reaction type=\"(n,p)\" Q=\"0.0\" target=\"Fe58\"/>\n",
      "    <reaction type=\"(n,a)\" Q=\"0.0\" target=\"Mn55\"/>\n",
      "  </nuclide>\n",
      "  <nuclide name=\"Co58_m1\" half_life=\"32760.0\" decay_modes=\"1\" decay_energy=\"24743.993\" reactions=\"4\"\n",
      "    <decay type=\"IT\" target=\"Co58\" branching_ratio=\"1.0\"/>\n",
      "    <source type=\"discrete\" particle=\"photon\">\n",
      "      <parameters>683.8341 778.5528 799.73 811.8799 6873.16 6888.41 7606.53 7608.44 7666.77 7666.98 \n",
      "    </source>\n",
      "    <source type=\"discrete\" particle=\"electron\">\n",
      "      <parameters>44.10677 75.2018 700.7507 748.1462 6033.734 6776.496 7523.523 17180.1 23963.4 2488\n",
      "    </source>\n",
      "    <reaction type=\"(n,2n)\" Q=\"-8452800.0\" target=\"Co57\"/>\n",
      "    <reaction type=\"(n,gamma)\" Q=\"10450000.0\" target=\"Co59\"/>\n",
      "    <reaction type=\"(n,p)\" Q=\"3090000.0\" target=\"Fe58\"/>\n",
      "    <reaction type=\"(n,a)\" Q=\"3513000.0\" target=\"Mn55\"/>\n",
      "  </nuclide>\n",
      "  <nuclide name=\"Co59\" reactions=\"6\">\n",
      "    <reaction type=\"(n,2n)\" Q=\"-10453990.0\" target=\"Co58\"/>\n",
      "    <reaction type=\"(n,3n)\" Q=\"-19027030.0\" target=\"Co57\"/>\n",
      "    <reaction type=\"(n,p)\" Q=\"-782555.9\" target=\"Fe59\"/>\n",
      "    <reaction type=\"(n,a)\" Q=\"328239.4\" target=\"Mn56\"/>\n",
      "    <reaction type=\"(n,gamma)\" Q=\"7492032.0\" target=\"Co60\" branching_ratio=\"0.444\"/>\n",
      "    <reaction type=\"(n,gamma)\" Q=\"7492032.0\" target=\"Co60_m1\" branching_ratio=\"0.556\"/>\n",
      "  </nuclide>\n",
      "  <nuclide name=\"Co60\" half_life=\"166344200.0\" decay_modes=\"1\" decay_energy=\"2600613.1\" reactions=\"0\n",
      "    <decay type=\"beta-\" target=\"Ni60\" branching_ratio=\"1.0\"/>\n",
      "    <source type=\"discrete\" particle=\"photon\">\n",
      "      <parameters>751.0021 852.3381 876.89 883.6421 7417.82 7435.78 8222.319 8224.59 8287.88 8288.14\n",
      "    </source>\n",
      "    <source type=\"discrete\" particle=\"electron\">\n",
      "      <parameters>47.97734 78.78671 772.594 818.3802 6497.883 7313.626 8133.5 318151.8 1164895.0 117\n",
      "    </source>\n",
      "  </nuclide>\n"
     ]
    }
   ],
   "source": [
    "!head -n 3571 ../../chain_endfb80_pwr.xml | cut -c 1-100 | tail -46"
   ]
  },
  {
   "cell_type": "markdown",
   "id": "6e32c76c-6d3e-4699-82d5-dad1bfeb37a5",
   "metadata": {},
   "source": [
    "By default, `get_microxs_and_flux` will use whatever depletion chain is available according to `openmc.config[\"chain_file\"]`. Since that was the full ENDF/B-VIII.0 depletion chain we have 3820 nuclides which we can confirm below by inspecting the `openmc.deplete.Chain` object representation of the chain file."
   ]
  },
  {
   "cell_type": "code",
   "execution_count": 15,
   "id": "74f9011a-7508-4148-9b86-b50cc7bbebe7",
   "metadata": {},
   "outputs": [
    {
     "name": "stdout",
     "output_type": "stream",
     "text": [
      "3820\n",
      "['(n,gamma)', '(n,2n)', '(n,p)', '(n,a)', '(n,3n)', '(n,4n)', 'fission']\n"
     ]
    }
   ],
   "source": [
    "chain = openmc.deplete.Chain.from_xml('../../chain_endfb80_pwr.xml')\n",
    "print(len(chain.nuclides))\n",
    "print(chain.reactions)"
   ]
  },
  {
   "cell_type": "markdown",
   "id": "30398235-853d-48ef-82aa-3f5edef1b144",
   "metadata": {},
   "source": [
    "Since we don't want OpenMC to waste time tallying reactions that we know aren't important to our problem we can use a few key pieces of information to drastically simplify the activation portion of the calculation. These two pieces of information are:\n",
    "1. The initial nuclides in the problem prior to any irradiation steps (just the nuclides we added to the steel in this case).\n",
    "2. The number of multistep reactions we want to consider also know as the `level`. "
   ]
  },
  {
   "cell_type": "code",
   "execution_count": 16,
   "id": "1540c34c-d3d7-4c4f-8d0e-ccec6e166656",
   "metadata": {},
   "outputs": [
    {
     "name": "stdout",
     "output_type": "stream",
     "text": [
      "['Co59', 'Cr50', 'Cr52', 'Cr53', 'Cr54', 'Fe54', 'Fe56', 'Fe57', 'Fe58', 'Mn55', 'Mo100', 'Mo92', 'Mo94', 'Mo95', 'Mo96', 'Mo97', 'Mo98', 'Ni58', 'Ni60', 'Ni61', 'Ni62', 'Ni64']\n"
     ]
    }
   ],
   "source": [
    "initial_nuclides = model.geometry.get_all_nuclides()\n",
    "print(initial_nuclides)"
   ]
  },
  {
   "cell_type": "markdown",
   "id": "396a54c2-e9cb-4d9b-9101-f0f5549ae2bb",
   "metadata": {},
   "source": [
    "Now we can reduce the full depletion chain to only consider the nuclides within 5 reaction steps of all of these starting nuclides like so:"
   ]
  },
  {
   "cell_type": "code",
   "execution_count": 17,
   "id": "3b6fcbf7-e3fc-4650-972b-88b0f321ef2b",
   "metadata": {},
   "outputs": [],
   "source": [
    "reduced_chain = chain.reduce(initial_nuclides, level=5)\n",
    "reduced_chain.export_to_xml('chain_endfb80_pwr_reduced.xml')"
   ]
  },
  {
   "cell_type": "markdown",
   "id": "b68fef1a-24b3-4208-8783-86d5c9ff6d32",
   "metadata": {},
   "source": [
    "How much has this reduced our chain? Let's check the length of the list of nuclides..."
   ]
  },
  {
   "cell_type": "code",
   "execution_count": 18,
   "id": "d1bd66f7-7f43-4409-9976-3fb29431d8e2",
   "metadata": {},
   "outputs": [
    {
     "data": {
      "text/plain": [
       "233"
      ]
     },
     "execution_count": 18,
     "metadata": {},
     "output_type": "execute_result"
    }
   ],
   "source": [
    "len(reduced_chain.nuclides)"
   ]
  },
  {
   "cell_type": "code",
   "execution_count": 19,
   "id": "bedffbf0-1b84-4705-a858-b5f1a30bccb1",
   "metadata": {},
   "outputs": [],
   "source": [
    "#help(chain)"
   ]
  },
  {
   "cell_type": "code",
   "execution_count": 20,
   "id": "ff771211-b1d2-4fc7-bdef-fff44bf18916",
   "metadata": {},
   "outputs": [
    {
     "name": "stdout",
     "output_type": "stream",
     "text": [
      "                                %%%%%%%%%%%%%%%\n",
      "                           %%%%%%%%%%%%%%%%%%%%%%%%\n",
      "                        %%%%%%%%%%%%%%%%%%%%%%%%%%%%%%\n",
      "                      %%%%%%%%%%%%%%%%%%%%%%%%%%%%%%%%%%\n",
      "                    %%%%%%%%%%%%%%%%%%%%%%%%%%%%%%%%%%%%%%\n",
      "                   %%%%%%%%%%%%%%%%%%%%%%%%%%%%%%%%%%%%%%%%\n",
      "                                    %%%%%%%%%%%%%%%%%%%%%%%%\n",
      "                                     %%%%%%%%%%%%%%%%%%%%%%%%\n",
      "                 ###############      %%%%%%%%%%%%%%%%%%%%%%%%\n",
      "                ##################     %%%%%%%%%%%%%%%%%%%%%%%\n",
      "                ###################     %%%%%%%%%%%%%%%%%%%%%%%\n",
      "                ####################     %%%%%%%%%%%%%%%%%%%%%%\n",
      "                #####################     %%%%%%%%%%%%%%%%%%%%%\n",
      "                ######################     %%%%%%%%%%%%%%%%%%%%\n",
      "                #######################     %%%%%%%%%%%%%%%%%%\n",
      "                 #######################     %%%%%%%%%%%%%%%%%\n",
      "                 ######################     %%%%%%%%%%%%%%%%%\n",
      "                  ####################     %%%%%%%%%%%%%%%%%\n",
      "                    #################     %%%%%%%%%%%%%%%%%\n",
      "                     ###############     %%%%%%%%%%%%%%%%\n",
      "                       ############     %%%%%%%%%%%%%%%\n",
      "                          ########     %%%%%%%%%%%%%%\n",
      "                                      %%%%%%%%%%%\n",
      "\n",
      "                 | The OpenMC Monte Carlo Code\n",
      "       Copyright | 2011-2024 MIT, UChicago Argonne LLC, and contributors\n",
      "         License | https://docs.openmc.org/en/latest/license.html\n",
      "         Version | 0.14.1-dev\n",
      "        Git SHA1 | cfe210da22367ce5cf928482e7b74e48c909a7ee\n",
      "       Date/Time | 2024-07-20 22:03:22\n",
      "  OpenMP Threads | 16\n",
      "\n",
      " Reading model XML file 'model.xml' ...\n",
      " Reading cross sections XML file...\n",
      " Reading Fe54 from /home/peterson/nuclear_data/endfb-viii.0-hdf5/neutron/Fe54.h5\n",
      " Reading Fe56 from /home/peterson/nuclear_data/endfb-viii.0-hdf5/neutron/Fe56.h5\n",
      " Reading Fe57 from /home/peterson/nuclear_data/endfb-viii.0-hdf5/neutron/Fe57.h5\n",
      " Reading Fe58 from /home/peterson/nuclear_data/endfb-viii.0-hdf5/neutron/Fe58.h5\n",
      " Reading Ni58 from /home/peterson/nuclear_data/endfb-viii.0-hdf5/neutron/Ni58.h5\n",
      " Reading Ni60 from /home/peterson/nuclear_data/endfb-viii.0-hdf5/neutron/Ni60.h5\n",
      " Reading Ni61 from /home/peterson/nuclear_data/endfb-viii.0-hdf5/neutron/Ni61.h5\n",
      " Reading Ni62 from /home/peterson/nuclear_data/endfb-viii.0-hdf5/neutron/Ni62.h5\n",
      " Reading Ni64 from /home/peterson/nuclear_data/endfb-viii.0-hdf5/neutron/Ni64.h5\n",
      " Reading Cr50 from /home/peterson/nuclear_data/endfb-viii.0-hdf5/neutron/Cr50.h5\n",
      " Reading Cr52 from /home/peterson/nuclear_data/endfb-viii.0-hdf5/neutron/Cr52.h5\n",
      " Reading Cr53 from /home/peterson/nuclear_data/endfb-viii.0-hdf5/neutron/Cr53.h5\n",
      " Reading Cr54 from /home/peterson/nuclear_data/endfb-viii.0-hdf5/neutron/Cr54.h5\n",
      " Reading Mn55 from /home/peterson/nuclear_data/endfb-viii.0-hdf5/neutron/Mn55.h5\n",
      " Reading Mo92 from /home/peterson/nuclear_data/endfb-viii.0-hdf5/neutron/Mo92.h5\n",
      " Reading Mo94 from /home/peterson/nuclear_data/endfb-viii.0-hdf5/neutron/Mo94.h5\n",
      " Reading Mo95 from /home/peterson/nuclear_data/endfb-viii.0-hdf5/neutron/Mo95.h5\n",
      " Reading Mo96 from /home/peterson/nuclear_data/endfb-viii.0-hdf5/neutron/Mo96.h5\n",
      " Reading Mo97 from /home/peterson/nuclear_data/endfb-viii.0-hdf5/neutron/Mo97.h5\n",
      " Reading Mo98 from /home/peterson/nuclear_data/endfb-viii.0-hdf5/neutron/Mo98.h5\n",
      " Reading Mo100 from\n",
      " /home/peterson/nuclear_data/endfb-viii.0-hdf5/neutron/Mo100.h5\n",
      " Reading Co59 from /home/peterson/nuclear_data/endfb-viii.0-hdf5/neutron/Co59.h5\n",
      " Minimum neutron data temperature: 294 K\n",
      " Maximum neutron data temperature: 294 K\n",
      " Reading H1 from /home/peterson/nuclear_data/endfb-viii.0-hdf5/neutron/H1.h5\n",
      " Reading H2 from /home/peterson/nuclear_data/endfb-viii.0-hdf5/neutron/H2.h5\n",
      " Reading H3 from /home/peterson/nuclear_data/endfb-viii.0-hdf5/neutron/H3.h5\n",
      " Reading He3 from /home/peterson/nuclear_data/endfb-viii.0-hdf5/neutron/He3.h5\n",
      " Reading He4 from /home/peterson/nuclear_data/endfb-viii.0-hdf5/neutron/He4.h5\n",
      " Reading S35 from /home/peterson/nuclear_data/endfb-viii.0-hdf5/neutron/S35.h5\n",
      " Reading S36 from /home/peterson/nuclear_data/endfb-viii.0-hdf5/neutron/S36.h5\n",
      " Reading Ar37 from /home/peterson/nuclear_data/endfb-viii.0-hdf5/neutron/Ar37.h5\n",
      " Reading Ar38 from /home/peterson/nuclear_data/endfb-viii.0-hdf5/neutron/Ar38.h5\n",
      " Reading Ar39 from /home/peterson/nuclear_data/endfb-viii.0-hdf5/neutron/Ar39.h5\n",
      " Reading Ar40 from /home/peterson/nuclear_data/endfb-viii.0-hdf5/neutron/Ar40.h5\n",
      " Reading Ar41 from /home/peterson/nuclear_data/endfb-viii.0-hdf5/neutron/Ar41.h5\n",
      " Reading K39 from /home/peterson/nuclear_data/endfb-viii.0-hdf5/neutron/K39.h5\n",
      " Reading K40 from /home/peterson/nuclear_data/endfb-viii.0-hdf5/neutron/K40.h5\n",
      " Reading K41 from /home/peterson/nuclear_data/endfb-viii.0-hdf5/neutron/K41.h5\n",
      " Reading Ca40 from /home/peterson/nuclear_data/endfb-viii.0-hdf5/neutron/Ca40.h5\n",
      " Reading Ca41 from /home/peterson/nuclear_data/endfb-viii.0-hdf5/neutron/Ca41.h5\n",
      " Reading Ca42 from /home/peterson/nuclear_data/endfb-viii.0-hdf5/neutron/Ca42.h5\n",
      " Reading Ca43 from /home/peterson/nuclear_data/endfb-viii.0-hdf5/neutron/Ca43.h5\n",
      " Reading Ca44 from /home/peterson/nuclear_data/endfb-viii.0-hdf5/neutron/Ca44.h5\n",
      " Reading Ca45 from /home/peterson/nuclear_data/endfb-viii.0-hdf5/neutron/Ca45.h5\n",
      " Reading Ca46 from /home/peterson/nuclear_data/endfb-viii.0-hdf5/neutron/Ca46.h5\n",
      " Reading Ca47 from /home/peterson/nuclear_data/endfb-viii.0-hdf5/neutron/Ca47.h5\n",
      " Reading Ca48 from /home/peterson/nuclear_data/endfb-viii.0-hdf5/neutron/Ca48.h5\n",
      " Reading Sc45 from /home/peterson/nuclear_data/endfb-viii.0-hdf5/neutron/Sc45.h5\n",
      " Reading Ti46 from /home/peterson/nuclear_data/endfb-viii.0-hdf5/neutron/Ti46.h5\n",
      " Reading Ti47 from /home/peterson/nuclear_data/endfb-viii.0-hdf5/neutron/Ti47.h5\n",
      " Reading Ti48 from /home/peterson/nuclear_data/endfb-viii.0-hdf5/neutron/Ti48.h5\n",
      " Reading Ti49 from /home/peterson/nuclear_data/endfb-viii.0-hdf5/neutron/Ti49.h5\n",
      " Reading Ti50 from /home/peterson/nuclear_data/endfb-viii.0-hdf5/neutron/Ti50.h5\n",
      " Reading V49 from /home/peterson/nuclear_data/endfb-viii.0-hdf5/neutron/V49.h5\n",
      " Reading V50 from /home/peterson/nuclear_data/endfb-viii.0-hdf5/neutron/V50.h5\n",
      " Reading V51 from /home/peterson/nuclear_data/endfb-viii.0-hdf5/neutron/V51.h5\n",
      " Reading Cr51 from /home/peterson/nuclear_data/endfb-viii.0-hdf5/neutron/Cr51.h5\n",
      " Reading Mn54 from /home/peterson/nuclear_data/endfb-viii.0-hdf5/neutron/Mn54.h5\n",
      " Reading Fe55 from /home/peterson/nuclear_data/endfb-viii.0-hdf5/neutron/Fe55.h5\n",
      " Reading Co58 from /home/peterson/nuclear_data/endfb-viii.0-hdf5/neutron/Co58.h5\n",
      " Reading Ni59 from /home/peterson/nuclear_data/endfb-viii.0-hdf5/neutron/Ni59.h5\n",
      " Reading Ni63 from /home/peterson/nuclear_data/endfb-viii.0-hdf5/neutron/Ni63.h5\n",
      " Reading Cu63 from /home/peterson/nuclear_data/endfb-viii.0-hdf5/neutron/Cu63.h5\n",
      " Reading Cu64 from /home/peterson/nuclear_data/endfb-viii.0-hdf5/neutron/Cu64.h5\n",
      " Reading Cu65 from /home/peterson/nuclear_data/endfb-viii.0-hdf5/neutron/Cu65.h5\n",
      " Reading Zn64 from /home/peterson/nuclear_data/endfb-viii.0-hdf5/neutron/Zn64.h5\n",
      " Reading Zn65 from /home/peterson/nuclear_data/endfb-viii.0-hdf5/neutron/Zn65.h5\n",
      " Reading Zn66 from /home/peterson/nuclear_data/endfb-viii.0-hdf5/neutron/Zn66.h5\n",
      " Reading Zn67 from /home/peterson/nuclear_data/endfb-viii.0-hdf5/neutron/Zn67.h5\n",
      " Reading Se80 from /home/peterson/nuclear_data/endfb-viii.0-hdf5/neutron/Se80.h5\n",
      " Reading Se81 from /home/peterson/nuclear_data/endfb-viii.0-hdf5/neutron/Se81.h5\n",
      " Reading Se82 from /home/peterson/nuclear_data/endfb-viii.0-hdf5/neutron/Se82.h5\n",
      " Reading Kr81 from /home/peterson/nuclear_data/endfb-viii.0-hdf5/neutron/Kr81.h5\n",
      " Reading Kr82 from /home/peterson/nuclear_data/endfb-viii.0-hdf5/neutron/Kr82.h5\n",
      " Reading Kr83 from /home/peterson/nuclear_data/endfb-viii.0-hdf5/neutron/Kr83.h5\n",
      " Reading Kr84 from /home/peterson/nuclear_data/endfb-viii.0-hdf5/neutron/Kr84.h5\n",
      " Reading Kr85 from /home/peterson/nuclear_data/endfb-viii.0-hdf5/neutron/Kr85.h5\n",
      " Reading Kr86 from /home/peterson/nuclear_data/endfb-viii.0-hdf5/neutron/Kr86.h5\n",
      " Reading Rb85 from /home/peterson/nuclear_data/endfb-viii.0-hdf5/neutron/Rb85.h5\n",
      " Reading Rb86 from /home/peterson/nuclear_data/endfb-viii.0-hdf5/neutron/Rb86.h5\n",
      " Reading Rb87 from /home/peterson/nuclear_data/endfb-viii.0-hdf5/neutron/Rb87.h5\n",
      " Reading Sr84 from /home/peterson/nuclear_data/endfb-viii.0-hdf5/neutron/Sr84.h5\n",
      " Reading Sr85 from /home/peterson/nuclear_data/endfb-viii.0-hdf5/neutron/Sr85.h5\n",
      " Reading Sr86 from /home/peterson/nuclear_data/endfb-viii.0-hdf5/neutron/Sr86.h5\n",
      " Reading Sr87 from /home/peterson/nuclear_data/endfb-viii.0-hdf5/neutron/Sr87.h5\n",
      " Reading Sr88 from /home/peterson/nuclear_data/endfb-viii.0-hdf5/neutron/Sr88.h5\n",
      " Reading Sr89 from /home/peterson/nuclear_data/endfb-viii.0-hdf5/neutron/Sr89.h5\n",
      " Reading Sr90 from /home/peterson/nuclear_data/endfb-viii.0-hdf5/neutron/Sr90.h5\n",
      " Reading Y89 from /home/peterson/nuclear_data/endfb-viii.0-hdf5/neutron/Y89.h5\n",
      " Reading Y90 from /home/peterson/nuclear_data/endfb-viii.0-hdf5/neutron/Y90.h5\n",
      " Reading Y91 from /home/peterson/nuclear_data/endfb-viii.0-hdf5/neutron/Y91.h5\n",
      " Reading Zr90 from /home/peterson/nuclear_data/endfb-viii.0-hdf5/neutron/Zr90.h5\n",
      " Reading Zr91 from /home/peterson/nuclear_data/endfb-viii.0-hdf5/neutron/Zr91.h5\n",
      " Reading Zr92 from /home/peterson/nuclear_data/endfb-viii.0-hdf5/neutron/Zr92.h5\n",
      " Reading Zr93 from /home/peterson/nuclear_data/endfb-viii.0-hdf5/neutron/Zr93.h5\n",
      " Reading Zr94 from /home/peterson/nuclear_data/endfb-viii.0-hdf5/neutron/Zr94.h5\n",
      " Reading Zr95 from /home/peterson/nuclear_data/endfb-viii.0-hdf5/neutron/Zr95.h5\n",
      " Reading Zr96 from /home/peterson/nuclear_data/endfb-viii.0-hdf5/neutron/Zr96.h5\n",
      " WARNING: Negative value(s) found on probability table for nuclide Zr96 at 250K\n",
      " WARNING: Negative value(s) found on probability table for nuclide Zr96 at 294K\n",
      " WARNING: Negative value(s) found on probability table for nuclide Zr96 at 600K\n",
      " WARNING: Negative value(s) found on probability table for nuclide Zr96 at 900K\n",
      " WARNING: Negative value(s) found on probability table for nuclide Zr96 at 1200K\n",
      " WARNING: Negative value(s) found on probability table for nuclide Zr96 at 2500K\n",
      " Reading Nb93 from /home/peterson/nuclear_data/endfb-viii.0-hdf5/neutron/Nb93.h5\n",
      " Reading Nb94 from /home/peterson/nuclear_data/endfb-viii.0-hdf5/neutron/Nb94.h5\n",
      " WARNING: Negative value(s) found on probability table for nuclide Nb94 at 250K\n",
      " WARNING: Negative value(s) found on probability table for nuclide Nb94 at 294K\n",
      " WARNING: Negative value(s) found on probability table for nuclide Nb94 at 600K\n",
      " WARNING: Negative value(s) found on probability table for nuclide Nb94 at 900K\n",
      " WARNING: Negative value(s) found on probability table for nuclide Nb94 at 1200K\n",
      " WARNING: Negative value(s) found on probability table for nuclide Nb94 at 2500K\n",
      " Reading Nb95 from /home/peterson/nuclear_data/endfb-viii.0-hdf5/neutron/Nb95.h5\n",
      " WARNING: Negative value(s) found on probability table for nuclide Nb95 at 250K\n",
      " WARNING: Negative value(s) found on probability table for nuclide Nb95 at 294K\n",
      " WARNING: Negative value(s) found on probability table for nuclide Nb95 at 600K\n",
      " WARNING: Negative value(s) found on probability table for nuclide Nb95 at 900K\n",
      " WARNING: Negative value(s) found on probability table for nuclide Nb95 at 1200K\n",
      " Reading Mo93 from /home/peterson/nuclear_data/endfb-viii.0-hdf5/neutron/Mo93.h5\n",
      " Reading Mo99 from /home/peterson/nuclear_data/endfb-viii.0-hdf5/neutron/Mo99.h5\n",
      " WARNING: Negative value(s) found on probability table for nuclide Mo99 at 250K\n",
      " WARNING: Negative value(s) found on probability table for nuclide Mo99 at 294K\n",
      " WARNING: Negative value(s) found on probability table for nuclide Mo99 at 600K\n",
      " WARNING: Negative value(s) found on probability table for nuclide Mo99 at 900K\n",
      " WARNING: Negative value(s) found on probability table for nuclide Mo99 at 1200K\n",
      " WARNING: Negative value(s) found on probability table for nuclide Mo99 at 2500K\n",
      " Reading Tc98 from /home/peterson/nuclear_data/endfb-viii.0-hdf5/neutron/Tc98.h5\n",
      " Reading Tc99 from /home/peterson/nuclear_data/endfb-viii.0-hdf5/neutron/Tc99.h5\n",
      " Reading Ru96 from /home/peterson/nuclear_data/endfb-viii.0-hdf5/neutron/Ru96.h5\n",
      " Reading Ru97 from /home/peterson/nuclear_data/endfb-viii.0-hdf5/neutron/Ru97.h5\n",
      " Reading Ru98 from /home/peterson/nuclear_data/endfb-viii.0-hdf5/neutron/Ru98.h5\n",
      " Reading Ru99 from /home/peterson/nuclear_data/endfb-viii.0-hdf5/neutron/Ru99.h5\n",
      " Reading Ru100 from\n",
      " /home/peterson/nuclear_data/endfb-viii.0-hdf5/neutron/Ru100.h5\n",
      " Reading Ru101 from\n",
      " /home/peterson/nuclear_data/endfb-viii.0-hdf5/neutron/Ru101.h5\n",
      " Reading Ru102 from\n",
      " /home/peterson/nuclear_data/endfb-viii.0-hdf5/neutron/Ru102.h5\n",
      " Reading Ru103 from\n",
      " /home/peterson/nuclear_data/endfb-viii.0-hdf5/neutron/Ru103.h5\n",
      " Reading Ru104 from\n",
      " /home/peterson/nuclear_data/endfb-viii.0-hdf5/neutron/Ru104.h5\n",
      " Reading Rh103 from\n",
      " /home/peterson/nuclear_data/endfb-viii.0-hdf5/neutron/Rh103.h5\n",
      " Preparing distributed cell instances...\n",
      " Writing summary.h5 file...\n",
      " Maximum neutron transport energy: 20000000 eV for Mo92\n",
      "\n",
      " ===============>     FIXED SOURCE TRANSPORT SIMULATION     <===============\n",
      "\n",
      " Simulating batch 1\n",
      " Simulating batch 2\n",
      " Simulating batch 3\n",
      " Simulating batch 4\n",
      " Simulating batch 5\n",
      " Simulating batch 6\n",
      " Simulating batch 7\n",
      " Simulating batch 8\n",
      " Simulating batch 9\n",
      " Simulating batch 10\n",
      " Simulating batch 11\n",
      " Simulating batch 12\n",
      " Simulating batch 13\n",
      " Simulating batch 14\n",
      " Simulating batch 15\n",
      " Simulating batch 16\n",
      " Simulating batch 17\n",
      " Simulating batch 18\n",
      " Simulating batch 19\n",
      " Simulating batch 20\n",
      " Simulating batch 21\n",
      " Simulating batch 22\n",
      " Simulating batch 23\n",
      " Simulating batch 24\n",
      " Simulating batch 25\n",
      " Simulating batch 26\n",
      " Simulating batch 27\n",
      " Simulating batch 28\n",
      " Simulating batch 29\n",
      " Simulating batch 30\n",
      " Simulating batch 31\n",
      " Simulating batch 32\n",
      " Simulating batch 33\n",
      " Simulating batch 34\n",
      " Simulating batch 35\n",
      " Simulating batch 36\n",
      " Simulating batch 37\n",
      " Simulating batch 38\n",
      " Simulating batch 39\n",
      " Simulating batch 40\n",
      " Simulating batch 41\n",
      " Simulating batch 42\n",
      " Simulating batch 43\n",
      " Simulating batch 44\n",
      " Simulating batch 45\n",
      " Simulating batch 46\n",
      " Simulating batch 47\n",
      " Simulating batch 48\n",
      " Simulating batch 49\n",
      " Simulating batch 50\n",
      " Simulating batch 51\n",
      " Simulating batch 52\n",
      " Simulating batch 53\n",
      " Simulating batch 54\n",
      " Simulating batch 55\n",
      " Simulating batch 56\n",
      " Simulating batch 57\n",
      " Simulating batch 58\n",
      " Simulating batch 59\n",
      " Simulating batch 60\n",
      " Simulating batch 61\n",
      " Simulating batch 62\n",
      " Simulating batch 63\n",
      " Simulating batch 64\n",
      " Simulating batch 65\n",
      " Simulating batch 66\n",
      " Simulating batch 67\n",
      " Simulating batch 68\n",
      " Simulating batch 69\n",
      " Simulating batch 70\n",
      " Simulating batch 71\n",
      " Simulating batch 72\n",
      " Simulating batch 73\n",
      " Simulating batch 74\n",
      " Simulating batch 75\n",
      " Simulating batch 76\n",
      " Simulating batch 77\n",
      " Simulating batch 78\n",
      " Simulating batch 79\n",
      " Simulating batch 80\n",
      " Simulating batch 81\n",
      " Simulating batch 82\n",
      " Simulating batch 83\n",
      " Simulating batch 84\n",
      " Simulating batch 85\n",
      " Simulating batch 86\n",
      " Simulating batch 87\n",
      " Simulating batch 88\n",
      " Simulating batch 89\n",
      " Simulating batch 90\n",
      " Simulating batch 91\n",
      " Simulating batch 92\n",
      " Simulating batch 93\n",
      " Simulating batch 94\n",
      " Simulating batch 95\n",
      " Simulating batch 96\n",
      " Simulating batch 97\n",
      " Simulating batch 98\n",
      " Simulating batch 99\n",
      " Simulating batch 100\n",
      " Creating state point statepoint.100.h5...\n",
      "\n",
      " =======================>     TIMING STATISTICS     <=======================\n",
      "\n",
      " Total time for initialization     = 4.9917e+00 seconds\n",
      "   Reading cross sections          = 1.0357e+00 seconds\n",
      " Total time in simulation          = 5.7483e+00 seconds\n",
      "   Time in transport only          = 5.4579e+00 seconds\n",
      "   Time in active batches          = 5.7483e+00 seconds\n",
      "   Time accumulating tallies       = 2.7586e-01 seconds\n",
      "   Time writing statepoints        = 2.2721e-03 seconds\n",
      " Total time for finalization       = 1.2923e-03 seconds\n",
      " Total time elapsed                = 1.0798e+01 seconds\n",
      " Calculation Rate (active)         = 17396.6 particles/second\n",
      "\n",
      " ============================>     RESULTS     <============================\n",
      "\n",
      " Leakage Fraction            = 1.10157 +/- 0.00182\n",
      "\n"
     ]
    }
   ],
   "source": [
    "fluxes, micros = openmc.deplete.get_microxs_and_flux(model, cells, chain_file='chain_endfb80_pwr_reduced.xml')"
   ]
  },
  {
   "cell_type": "markdown",
   "id": "e6125103-01b7-4e25-b065-cabf0fb77ca4",
   "metadata": {},
   "source": [
    "Now we see that ran much faster and loaded far fewer nuclide cross sections"
   ]
  },
  {
   "cell_type": "code",
   "execution_count": 21,
   "id": "36f55c71-1b1c-4b99-a948-58e55838b63a",
   "metadata": {},
   "outputs": [
    {
     "name": "stdout",
     "output_type": "stream",
     "text": [
      "[array([22.74723001]), array([0.11569096]), array([23.79883435])]\n"
     ]
    }
   ],
   "source": [
    "print(fluxes)"
   ]
  },
  {
   "cell_type": "code",
   "execution_count": 22,
   "id": "9f05db97-a7ae-4c22-9fe4-1f8c829c7541",
   "metadata": {},
   "outputs": [
    {
     "name": "stdout",
     "output_type": "stream",
     "text": [
      "['H1', 'H2', 'H3', 'He3', 'He4', 'S35', 'S36', 'Ar37', 'Ar38', 'Ar39', 'Ar40', 'Ar41', 'K39', 'K40', 'K41', 'Ca40', 'Ca41', 'Ca42', 'Ca43', 'Ca44', 'Ca45', 'Ca46', 'Ca47', 'Ca48', 'Sc45', 'Ti46', 'Ti47', 'Ti48', 'Ti49', 'Ti50', 'V49', 'V50', 'V51', 'Cr50', 'Cr51', 'Cr52', 'Cr53', 'Cr54', 'Mn54', 'Mn55', 'Fe54', 'Fe55', 'Fe56', 'Fe57', 'Fe58', 'Co58', 'Co59', 'Ni58', 'Ni59', 'Ni60', 'Ni61', 'Ni62', 'Ni63', 'Ni64', 'Cu63', 'Cu64', 'Cu65', 'Zn64', 'Zn65', 'Zn66', 'Zn67', 'Se80', 'Se81', 'Se82', 'Kr81', 'Kr82', 'Kr83', 'Kr84', 'Kr85', 'Kr86', 'Rb85', 'Rb86', 'Rb87', 'Sr84', 'Sr85', 'Sr86', 'Sr87', 'Sr88', 'Sr89', 'Sr90', 'Y89', 'Y90', 'Y91', 'Zr90', 'Zr91', 'Zr92', 'Zr93', 'Zr94', 'Zr95', 'Zr96', 'Nb93', 'Nb94', 'Nb95', 'Mo92', 'Mo93', 'Mo94', 'Mo95', 'Mo96', 'Mo97', 'Mo98', 'Mo99', 'Mo100', 'Tc98', 'Tc99', 'Ru96', 'Ru97', 'Ru98', 'Ru99', 'Ru100', 'Ru101', 'Ru102', 'Ru103', 'Ru104', 'Rh103']\n",
      "['(n,gamma)', '(n,2n)', '(n,p)', '(n,a)', '(n,3n)', '(n,4n)']\n"
     ]
    }
   ],
   "source": [
    "print(micros[0].nuclides)\n",
    "print(micros[0].reactions)"
   ]
  },
  {
   "cell_type": "markdown",
   "id": "ea182b3e-7a1f-4f32-9dbf-4b7e7e99c956",
   "metadata": {},
   "source": [
    "## Task 3: Defining an irradiation scenario and solving the Bateman equations\n",
    "The [OpenMC theory guide on depletion](https://docs.openmc.org/en/stable/methods/depletion.html) does a good job of explaining the basics of solving the coupled system of ODE's for nuclide inventory evolution known as the Bateman Equations. Let's start with a simple pulsed scenario comprised of 3 pulses each of 1 day on, 1 day off. Then we can let the system decay for 6 months and take a look at the dose rates at a bunch of points in the cooldown phase."
   ]
  },
  {
   "cell_type": "code",
   "execution_count": 23,
   "id": "83c043a1-abf1-429f-9a2f-1eb963c87bf2",
   "metadata": {},
   "outputs": [],
   "source": [
    "timesteps = 3600*24*np.array([1, 1, 1, 1, 1, 0.05, 0.1, 0.15, 0.2, 0.5, 1, 2, 4, 7, 14, 30, 60, 120])\n",
    "source_rates = np.zeros_like(timesteps)\n",
    "source_rates[0:5:2] = 1e12 # Set timesteps 0, 2, 4 to 1E12 neutrons/second"
   ]
  },
  {
   "cell_type": "markdown",
   "id": "ccc4b603-02be-4132-a274-9cdd9a8a1815",
   "metadata": {},
   "source": [
    "Now we need to choose an \"Operator\" for the depletion calculation. The Operator here refers to the Transport Operator and defines how we compute the reaction rates, and proper normalization. The Operator is responsible for taking outputs from a neutron transport simulation, combining them with information in the depletion chains and building the burnup matrix in order to solve the Bateman equations.\n",
    "\n",
    "For fusion relevant activation problems we can often use what we call the `IndependentOperator` The reason it is considered \"Independent\" is because there is no need for the depletion solve to be coupled to a new transport solution at different time steps. By the nature of a fixed source problem with little to no fissionable material, the neutron source term is not significantly affected by changes to the material composition. As such, the elements of the burnup matrix will not change much from one timestep to another aside from multiplication by a scalar value (the pulse source rate in n/s or 0 for a pure decay step). \n",
    "\n",
    "Therefore we can choose to set up a \"transport independent operator\" for managing the depletion process of our steel slab based on the fluxes and microscopic cross sections we calculated in Task 2. The only additional information we need to pass to our Operator is the reduced chain file we previously produced as well as to tell the operator how it should normalize reaction rates. For a fixed source problem we want the normalization based on the neutron source rate in the plasma rather than the power level as in a fission reactor."
   ]
  },
  {
   "cell_type": "code",
   "execution_count": 24,
   "id": "7527ee85-d96e-4be6-a134-1a42f17fc95b",
   "metadata": {},
   "outputs": [],
   "source": [
    "activation_cells = {}\n",
    "for cell_id, cell in model.geometry.get_all_cells().items():\n",
    "    if cell.fill is not None and cell.fill.depletable:\n",
    "        activation_cells[cell_id] = cell\n",
    "activation_materials = openmc.Materials([cell.fill for cell in activation_cells.values()])\n",
    "op = openmc.deplete.IndependentOperator(activation_materials, fluxes[0:1], micros[0:1],\n",
    "                                        chain_file='chain_endfb80_pwr_reduced.xml',\n",
    "                                        normalization_mode='source-rate')"
   ]
  },
  {
   "cell_type": "markdown",
   "id": "237fefcb-cf54-45e7-b237-b5f9fa129124",
   "metadata": {},
   "source": [
    "The final step before executing the depletion calculation is to choose a time integration scheme. OpenMC has many time integration schemes available from the simplest 1 step Predictor algorithm to complex multistep predictor-corrector and Runge-Kutta algorithms. The nice thing about fixed source depletion is that if the burnup matrix elements do not change in time, there is no need for higher-order algorithms - they all reduce to the 1-step predictor in that limit! Therefore we will only use this scheme for shutdown dose rate problems.\n",
    "\n",
    "To set up the integrator all we need to pass in are the operator which manages the depletion, the timestep schedule and associated source rates."
   ]
  },
  {
   "cell_type": "code",
   "execution_count": 25,
   "id": "be31996c-7084-4bd6-8b53-b09c23c795da",
   "metadata": {},
   "outputs": [],
   "source": [
    "integrator = openmc.deplete.PredictorIntegrator(op, timesteps, source_rates=source_rates)"
   ]
  },
  {
   "cell_type": "markdown",
   "id": "504faf9c-6f47-48c7-ac90-b1f749020944",
   "metadata": {},
   "source": [
    "Now we can execute the integration which will result in a depletion simulation and provide us with nuclide inventories at all the timesteps we want. We also don't want to run another transport calculation at the final step so let's skip that part by disabling the optional `final_step` argument."
   ]
  },
  {
   "cell_type": "code",
   "execution_count": 26,
   "id": "1d6cb667-d5d2-4c8a-9809-a98b62df9869",
   "metadata": {},
   "outputs": [
    {
     "name": "stdout",
     "output_type": "stream",
     "text": [
      "[openmc.deplete] t=0.0 s, dt=86400.0 s, source=1000000000000.0\n",
      "[openmc.deplete] t=86400.0 s, dt=86400.0 s, source=0.0\n",
      "[openmc.deplete] t=172800.0 s, dt=86400.0 s, source=1000000000000.0\n",
      "[openmc.deplete] t=259200.0 s, dt=86400.0 s, source=0.0\n",
      "[openmc.deplete] t=345600.0 s, dt=86400.0 s, source=1000000000000.0\n",
      "[openmc.deplete] t=432000.0 s, dt=4320.0 s, source=0.0\n",
      "[openmc.deplete] t=436320.0 s, dt=8640.0 s, source=0.0\n",
      "[openmc.deplete] t=444960.0 s, dt=12960.0 s, source=0.0\n",
      "[openmc.deplete] t=457920.0 s, dt=17280.0 s, source=0.0\n",
      "[openmc.deplete] t=475200.0 s, dt=43200.0 s, source=0.0\n",
      "[openmc.deplete] t=518400.0 s, dt=86400.0 s, source=0.0\n",
      "[openmc.deplete] t=604800.0 s, dt=172800.0 s, source=0.0\n",
      "[openmc.deplete] t=777600.0 s, dt=345600.0 s, source=0.0\n",
      "[openmc.deplete] t=1123200.0 s, dt=604800.0 s, source=0.0\n",
      "[openmc.deplete] t=1728000.0 s, dt=1209600.0 s, source=0.0\n",
      "[openmc.deplete] t=2937600.0 s, dt=2592000.0 s, source=0.0\n",
      "[openmc.deplete] t=5529600.0 s, dt=5184000.0 s, source=0.0\n",
      "[openmc.deplete] t=10713600.0 s, dt=10368000.0 s, source=0.0\n"
     ]
    }
   ],
   "source": [
    "integrator.integrate(final_step=False)"
   ]
  },
  {
   "cell_type": "markdown",
   "id": "3ebf1f40-5009-44d2-ac47-d8328de1c972",
   "metadata": {},
   "source": [
    "## Task 4: Generate photon sources at decay steps from depletion results"
   ]
  },
  {
   "cell_type": "markdown",
   "id": "c45042c5-0aee-4d3a-a44c-a0aa960f5c16",
   "metadata": {},
   "source": [
    "We can view these results by loading the `depletion_results.h5` file"
   ]
  },
  {
   "cell_type": "code",
   "execution_count": 27,
   "id": "3357b0d8-7c75-4d76-871e-127e8e116000",
   "metadata": {},
   "outputs": [],
   "source": [
    "results = openmc.deplete.Results('depletion_results.h5')"
   ]
  },
  {
   "cell_type": "markdown",
   "id": "b877a58e-73d6-4825-8bc7-566e57e6adc2",
   "metadata": {},
   "source": [
    "Now for all the cells in the model that we activated we need to get the decay photon source spectrum. To do this we will create a dictionary mapping activation cell IDs to their Cell instances. Then we will get the decay photon energy spectrum for each depleted material in the model."
   ]
  },
  {
   "cell_type": "code",
   "execution_count": 28,
   "id": "a6b42db6-f832-4c35-9952-586720302bfa",
   "metadata": {},
   "outputs": [],
   "source": [
    "source_spectra = {}\n",
    "# just want to loop over the cooling times\n",
    "for i, time in list(enumerate(timesteps))[5:]:\n",
    "    source_spectra[i] = {}\n",
    "    for cell_id, cell in activation_cells.items():\n",
    "        mat = results[i].get_material(str(cell.fill.id))\n",
    "        source_spectra[i][cell_id] = mat.get_decay_photon_energy()"
   ]
  },
  {
   "cell_type": "markdown",
   "id": "c4e2ce20-8504-42a7-8788-fe2ded4709a8",
   "metadata": {},
   "source": [
    "Now we can visualize the photon source in each cell for each time point if we want"
   ]
  },
  {
   "cell_type": "code",
   "execution_count": 29,
   "id": "ade13e6b-fafc-42ec-82ee-5556badf2140",
   "metadata": {},
   "outputs": [
    {
     "name": "stderr",
     "output_type": "stream",
     "text": [
      "findfont: Font family ['Arial'] not found. Falling back to DejaVu Sans.\n",
      "findfont: Font family ['Arial'] not found. Falling back to DejaVu Sans.\n",
      "findfont: Font family ['Arial'] not found. Falling back to DejaVu Sans.\n"
     ]
    },
    {
     "data": {
      "image/png": "[encoded data removed]",
      "text/plain": [
       "<Figure size 576x384 with 1 Axes>"
      ]
     },
     "metadata": {},
     "output_type": "display_data"
    }
   ],
   "source": [
    "energy_dist = source_spectra[5][1]\n",
    "fig, ax = plt.subplots()\n",
    "ax.stem(energy_dist.x, energy_dist.p)\n",
    "ax.set_yscale('log')\n",
    "ax.set_xlabel('Energy (eV)')\n",
    "ax.set_ylabel('Intensity (photons/second)')\n",
    "energy_dist = source_spectra[9][1]\n",
    "ax.stem(energy_dist.x, energy_dist.p, linefmt='C1', markerfmt='C1')\n",
    "plt.show()"
   ]
  },
  {
   "cell_type": "code",
   "execution_count": 30,
   "id": "fb8f6101-e581-4905-841e-626ab0ba9f38",
   "metadata": {},
   "outputs": [
    {
     "name": "stdout",
     "output_type": "stream",
     "text": [
      "Cooling Time 5: 4320.0 seconds\n",
      "\tSource strength for Cell 1: 8.088e+10 γ/s\n",
      "Cooling Time 6: 8640.0 seconds\n",
      "\tSource strength for Cell 1: 5.274e+10 γ/s\n",
      "Cooling Time 7: 12960.0 seconds\n",
      "\tSource strength for Cell 1: 2.935e+10 γ/s\n",
      "Cooling Time 8: 17280.0 seconds\n",
      "\tSource strength for Cell 1: 1.335e+10 γ/s\n",
      "Cooling Time 9: 43200.0 seconds\n",
      "\tSource strength for Cell 1: 6.164e+09 γ/s\n",
      "Cooling Time 10: 86400.0 seconds\n",
      "\tSource strength for Cell 1: 3.298e+09 γ/s\n",
      "Cooling Time 11: 172800.0 seconds\n",
      "\tSource strength for Cell 1: 2.722e+09 γ/s\n",
      "Cooling Time 12: 345600.0 seconds\n",
      "\tSource strength for Cell 1: 2.157e+09 γ/s\n",
      "Cooling Time 13: 604800.0 seconds\n",
      "\tSource strength for Cell 1: 1.690e+09 γ/s\n",
      "Cooling Time 14: 1209600.0 seconds\n",
      "\tSource strength for Cell 1: 1.425e+09 γ/s\n",
      "Cooling Time 15: 2592000.0 seconds\n",
      "\tSource strength for Cell 1: 1.194e+09 γ/s\n",
      "Cooling Time 16: 5184000.0 seconds\n",
      "\tSource strength for Cell 1: 8.804e+08 γ/s\n",
      "Cooling Time 17: 10368000.0 seconds\n",
      "\tSource strength for Cell 1: 5.412e+08 γ/s\n"
     ]
    }
   ],
   "source": [
    "cells = model.geometry.get_all_cells()\n",
    "# Create sources for each depletable region for each time point\n",
    "source_time_dict = {}\n",
    "for i, time in list(enumerate(timesteps))[5:]:\n",
    "    sources = []\n",
    "    print(f\"Cooling Time {i}: {time} seconds\")\n",
    "    for cell_id, cell in activation_cells.items():\n",
    "        bb = cell.bounding_box\n",
    "        space = openmc.stats.Box(bb.lower_left, bb.upper_right)\n",
    "        energy = source_spectra[i][cell_id]\n",
    "        strength = energy.integral()\n",
    "        print(f\"\\tSource strength for Cell {cell_id}: {strength:1.3e} γ/s\")\n",
    "    \n",
    "        source = openmc.IndependentSource(space=space,\n",
    "                                          energy=energy,\n",
    "                                          particle='photon',\n",
    "                                          strength=strength,\n",
    "                                          constraints={'domains':[cell]})\n",
    "        sources.append(source)\n",
    "    source_time_dict[i] = sources"
   ]
  },
  {
   "cell_type": "markdown",
   "id": "650737e7-8b93-4aff-8002-074375f211bb",
   "metadata": {},
   "source": [
    "## Task 5: Run Photon transport simulations for each decay time"
   ]
  },
  {
   "cell_type": "markdown",
   "id": "2e387fdf-e308-4b17-a5bf-52a2846f2b39",
   "metadata": {},
   "source": [
    "Let's create a `Tally` to calculate the dose in our detector cell and add it to our photon transport model. We want to create a `CellFilter` only including the detector as well as a `ParticleFilter` for photons and score the photon flux. To convert this to dose equivalent, we'll use the ICRP-116 flux-to-dose conversion factors for photons that are available through the `openmc.data` module. To do this we can leverage the `EnergyFunctionFilter` capabilities that allow us to perform a transformation to the photon flux based on the incoming energy during the simulation. Since the flux-to-dose conversion factors depend on energy we can either do this calculation in the code or apply a sufficiently fine `EnergyFilter` to the tally and apply it in postprocessing. We will do the former for simplicity for now."
   ]
  },
  {
   "cell_type": "code",
   "execution_count": 31,
   "id": "1e756349-2270-47f1-9d1b-e68946ef124c",
   "metadata": {},
   "outputs": [
    {
     "name": "stdout",
     "output_type": "stream",
     "text": [
      "dict_values([Cell\n",
      "\tID             =\t1\n",
      "\tName           =\t\n",
      "\tFill           =\tMaterial 1\n",
      "\tRegion         =\t(-2 1 -4 3 -6 5)\n",
      "\tRotation       =\tNone\n",
      "\tTemperature    =\tNone\n",
      "\tTranslation    =\tNone\n",
      "\tVolume         =\t6000.0\n",
      ", Cell\n",
      "\tID             =\t2\n",
      "\tName           =\t\n",
      "\tFill           =\tNone\n",
      "\tRegion         =\t-7\n",
      "\tRotation       =\tNone\n",
      "\tTranslation    =\tNone\n",
      "\tVolume         =\t11.494040321933852\n",
      ", Cell\n",
      "\tID             =\t3\n",
      "\tName           =\t\n",
      "\tFill           =\tNone\n",
      "\tRegion         =\t((2 | -1 | 4 | -3 | 6 | -5) 7 -8)\n",
      "\tRotation       =\tNone\n",
      "\tTranslation    =\tNone\n",
      "\tVolume         =\t107085.8414889106\n",
      "])\n"
     ]
    }
   ],
   "source": [
    "energies, pSv_cm2 = openmc.data.dose_coefficients('photon')\n",
    "dose_filter = openmc.EnergyFunctionFilter(energies, pSv_cm2)\n",
    "particle_filter = openmc.ParticleFilter(['photon'])\n",
    "cell_filter = openmc.CellFilter([2])\n",
    "flux_tally = openmc.Tally()\n",
    "flux_tally.filters = [cell_filter, dose_filter, particle_filter]\n",
    "flux_tally.scores = ['flux']\n",
    "# let's keep this tallies object around for later...\n",
    "dose_tallies = openmc.Tallies([flux_tally])\n",
    "\n",
    "model.tallies = dose_tallies\n",
    "print(model.geometry.get_all_cells().values())"
   ]
  },
  {
   "cell_type": "markdown",
   "id": "4de99fb5-517a-400f-a9f1-2845ee969d6f",
   "metadata": {},
   "source": [
    "Now let's loop through each cooling time and compute the dose at different times"
   ]
  },
  {
   "cell_type": "code",
   "execution_count": 32,
   "id": "badd3d42-fb9a-4ffd-8c91-def153ca0a7f",
   "metadata": {},
   "outputs": [
    {
     "name": "stdout",
     "output_type": "stream",
     "text": [
      "Photon transport calculation (5), source = 8.088e+10 γ/s ...\n",
      "Dose rate (flux) = 1.687e-01 Sv/h\n",
      "Photon transport calculation (6), source = 5.274e+10 γ/s ...\n",
      "Dose rate (flux) = 1.060e-01 Sv/h\n",
      "Photon transport calculation (7), source = 2.935e+10 γ/s ...\n",
      "Dose rate (flux) = 5.713e-02 Sv/h\n",
      "Photon transport calculation (8), source = 1.335e+10 γ/s ...\n",
      "Dose rate (flux) = 2.281e-02 Sv/h\n",
      "Photon transport calculation (9), source = 6.164e+09 γ/s ...\n",
      "Dose rate (flux) = 8.208e-03 Sv/h\n",
      "Photon transport calculation (10), source = 3.298e+09 γ/s ...\n",
      "Dose rate (flux) = 3.003e-03 Sv/h\n",
      "Photon transport calculation (11), source = 2.722e+09 γ/s ...\n",
      "Dose rate (flux) = 2.439e-03 Sv/h\n",
      "Photon transport calculation (12), source = 2.157e+09 γ/s ...\n",
      "Dose rate (flux) = 1.810e-03 Sv/h\n",
      "Photon transport calculation (13), source = 1.690e+09 γ/s ...\n",
      "Dose rate (flux) = 1.510e-03 Sv/h\n",
      "Photon transport calculation (14), source = 1.425e+09 γ/s ...\n",
      "Dose rate (flux) = 1.265e-03 Sv/h\n",
      "Photon transport calculation (15), source = 1.194e+09 γ/s ...\n",
      "Dose rate (flux) = 1.181e-03 Sv/h\n",
      "Photon transport calculation (16), source = 8.804e+08 γ/s ...\n",
      "Dose rate (flux) = 8.980e-04 Sv/h\n",
      "Photon transport calculation (17), source = 5.412e+08 γ/s ...\n",
      "Dose rate (flux) = 5.333e-04 Sv/h\n"
     ]
    }
   ],
   "source": [
    "model.particles = 10000\n",
    "for i, time in list(enumerate(timesteps))[5:]:\n",
    "    model.settings.source = source_time_dict[i]\n",
    "    # Run OpenMC and compute dose\n",
    "    intensity = sum(s.strength for s in model.settings.source)\n",
    "    print(f'Photon transport calculation ({i}), source = {intensity:.3e} γ/s ...')\n",
    "    sp_filename = model.run(output=False, cwd=f'photon_{i}')\n",
    "    with openmc.StatePoint(sp_filename) as sp:\n",
    "        flux_tally = list(sp.tallies.values())[0]\n",
    "    # Calculate dose using flux-to-dose conversion factor\n",
    "    mean = flux_tally.mean.squeeze()\n",
    "    stdev = flux_tally.std_dev.squeeze()\n",
    "    #pSv_cm3_per_sec = ufloat(mean, stdev)\n",
    "    pSv_per_sec = mean / detector.volume\n",
    "    Sv_per_h = pSv_per_sec * 1e-12 * 3600.\n",
    "    print(f'Dose rate (flux) = {Sv_per_h:1.3e} Sv/h')\n",
    "    "
   ]
  },
  {
   "cell_type": "markdown",
   "id": "698f8fc3-e368-4bd2-be75-0687faeebee6",
   "metadata": {},
   "source": [
    "## Task 6: Plot dose vs time at the detector"
   ]
  },
  {
   "cell_type": "code",
   "execution_count": 33,
   "id": "7ce4ead9-f2c3-427c-86fa-9ea507f0c913",
   "metadata": {},
   "outputs": [],
   "source": [
    "times = np.cumsum(timesteps) \n",
    "def get_doses():\n",
    "    doses = np.zeros(len(timesteps)-5)\n",
    "    for i, time in list(enumerate(timesteps))[5:]:\n",
    "        with openmc.StatePoint(f\"photon_{i}/statepoint.100.h5\") as sp:\n",
    "            flux_tally = list(sp.tallies.values())[0]\n",
    "        # Calculate dose using flux-to-dose conversion factor\n",
    "        mean = flux_tally.mean.squeeze()\n",
    "        stdev = flux_tally.std_dev.squeeze()\n",
    "        #pSv_cm3_per_sec = ufloat(mean, stdev)\n",
    "        pSv_per_sec = mean / detector.volume\n",
    "        Sv_per_h = pSv_per_sec * 1e-12 * 3600.\n",
    "        doses[i-5] = Sv_per_h\n",
    "    return doses\n",
    "\n",
    "doses = get_doses()\n",
    "# keep these around for later\n",
    "original_doses = doses"
   ]
  },
  {
   "cell_type": "code",
   "execution_count": 34,
   "id": "6464af03-de45-4ed7-915a-d43524ab8b9b",
   "metadata": {},
   "outputs": [
    {
     "data": {
      "image/png": "[encoded data removed]",
      "text/plain": [
       "<Figure size 576x384 with 1 Axes>"
      ]
     },
     "metadata": {},
     "output_type": "display_data"
    }
   ],
   "source": [
    "fig, ax = plt.subplots()\n",
    "cooling_times = times[5:]/ (3600*24)\n",
    "ax.loglog(cooling_times, doses, \"x\", ms=6, mew=1)\n",
    "ax.set_xlabel('Cooling Time (days)')\n",
    "ax.set_ylabel('Dose (Sv/h)')\n",
    "plt.show()"
   ]
  },
  {
   "cell_type": "markdown",
   "id": "f5347f29-a381-4b18-8c47-171092ef524e",
   "metadata": {},
   "source": [
    "## Task 7: Redo this problem with finer discretization of the steel\n",
    "Let's redo this exact problem, but with five 3cm thick slabs of steel instead of one 15cm thick slab"
   ]
  },
  {
   "cell_type": "code",
   "execution_count": 35,
   "id": "e317b693-f2a1-4608-9cd1-e65a5ababf13",
   "metadata": {},
   "outputs": [],
   "source": [
    "model = openmc.model.Model()\n",
    "zplanes = [openmc.ZPlane(zi) for zi in [4, 7, 10, 13]]\n",
    "slab_regs = openmc.model.subdivide(zplanes)\n",
    "slab_cells = [openmc.Cell(region=ri, fill=steel.clone()) for ri in [-rpp & zreg for zreg in slab_regs]]\n",
    "for cell in slab_cells:\n",
    "    cell.fill.volume = cell.bounding_box.volume\n",
    "cells = slab_cells + [detector, air]\n",
    "model.geometry = openmc.Geometry(cells) \n",
    "settings = openmc.Settings(run_mode='fixed source', particles=1000, batches=100)\n",
    "settings.source = neutron_source\n",
    "model.settings = settings"
   ]
  },
  {
   "cell_type": "code",
   "execution_count": 36,
   "id": "2aed56e5-27ef-4017-ae42-cbead3d82339",
   "metadata": {},
   "outputs": [
    {
     "data": {
      "text/plain": [
       "<Axes: xlabel='x [cm]', ylabel='z [cm]'>"
      ]
     },
     "execution_count": 36,
     "metadata": {},
     "output_type": "execute_result"
    },
    {
     "data": {
      "image/png": "[encoded data removed]",
      "text/plain": [
       "<Figure size 250x250 with 1 Axes>"
      ]
     },
     "metadata": {},
     "output_type": "display_data"
    }
   ],
   "source": [
    "model.geometry.plot(color_by='cell', basis='xz')"
   ]
  },
  {
   "cell_type": "code",
   "execution_count": 37,
   "id": "71193840-30e4-4ae6-bd53-a45b710de7a9",
   "metadata": {},
   "outputs": [
    {
     "name": "stdout",
     "output_type": "stream",
     "text": [
      "                                %%%%%%%%%%%%%%%\n",
      "                           %%%%%%%%%%%%%%%%%%%%%%%%\n",
      "                        %%%%%%%%%%%%%%%%%%%%%%%%%%%%%%\n",
      "                      %%%%%%%%%%%%%%%%%%%%%%%%%%%%%%%%%%\n",
      "                    %%%%%%%%%%%%%%%%%%%%%%%%%%%%%%%%%%%%%%\n",
      "                   %%%%%%%%%%%%%%%%%%%%%%%%%%%%%%%%%%%%%%%%\n",
      "                                    %%%%%%%%%%%%%%%%%%%%%%%%\n",
      "                                     %%%%%%%%%%%%%%%%%%%%%%%%\n",
      "                 ###############      %%%%%%%%%%%%%%%%%%%%%%%%\n",
      "                ##################     %%%%%%%%%%%%%%%%%%%%%%%\n",
      "                ###################     %%%%%%%%%%%%%%%%%%%%%%%\n",
      "                ####################     %%%%%%%%%%%%%%%%%%%%%%\n",
      "                #####################     %%%%%%%%%%%%%%%%%%%%%\n",
      "                ######################     %%%%%%%%%%%%%%%%%%%%\n",
      "                #######################     %%%%%%%%%%%%%%%%%%\n",
      "                 #######################     %%%%%%%%%%%%%%%%%\n",
      "                 ######################     %%%%%%%%%%%%%%%%%\n",
      "                  ####################     %%%%%%%%%%%%%%%%%\n",
      "                    #################     %%%%%%%%%%%%%%%%%\n",
      "                     ###############     %%%%%%%%%%%%%%%%\n",
      "                       ############     %%%%%%%%%%%%%%%\n",
      "                          ########     %%%%%%%%%%%%%%\n",
      "                                      %%%%%%%%%%%\n",
      "\n",
      "                 | The OpenMC Monte Carlo Code\n",
      "       Copyright | 2011-2024 MIT, UChicago Argonne LLC, and contributors\n",
      "         License | https://docs.openmc.org/en/latest/license.html\n",
      "         Version | 0.14.1-dev\n",
      "        Git SHA1 | cfe210da22367ce5cf928482e7b74e48c909a7ee\n",
      "       Date/Time | 2024-07-20 22:03:57\n",
      "  OpenMP Threads | 16\n",
      "\n",
      " Reading model XML file 'model.xml' ...\n",
      " Reading cross sections XML file...\n",
      " Reading Fe54 from /home/peterson/nuclear_data/endfb-viii.0-hdf5/neutron/Fe54.h5\n",
      " Reading Fe56 from /home/peterson/nuclear_data/endfb-viii.0-hdf5/neutron/Fe56.h5\n",
      " Reading Fe57 from /home/peterson/nuclear_data/endfb-viii.0-hdf5/neutron/Fe57.h5\n",
      " Reading Fe58 from /home/peterson/nuclear_data/endfb-viii.0-hdf5/neutron/Fe58.h5\n",
      " Reading Ni58 from /home/peterson/nuclear_data/endfb-viii.0-hdf5/neutron/Ni58.h5\n",
      " Reading Ni60 from /home/peterson/nuclear_data/endfb-viii.0-hdf5/neutron/Ni60.h5\n",
      " Reading Ni61 from /home/peterson/nuclear_data/endfb-viii.0-hdf5/neutron/Ni61.h5\n",
      " Reading Ni62 from /home/peterson/nuclear_data/endfb-viii.0-hdf5/neutron/Ni62.h5\n",
      " Reading Ni64 from /home/peterson/nuclear_data/endfb-viii.0-hdf5/neutron/Ni64.h5\n",
      " Reading Cr50 from /home/peterson/nuclear_data/endfb-viii.0-hdf5/neutron/Cr50.h5\n",
      " Reading Cr52 from /home/peterson/nuclear_data/endfb-viii.0-hdf5/neutron/Cr52.h5\n",
      " Reading Cr53 from /home/peterson/nuclear_data/endfb-viii.0-hdf5/neutron/Cr53.h5\n",
      " Reading Cr54 from /home/peterson/nuclear_data/endfb-viii.0-hdf5/neutron/Cr54.h5\n",
      " Reading Mn55 from /home/peterson/nuclear_data/endfb-viii.0-hdf5/neutron/Mn55.h5\n",
      " Reading Mo92 from /home/peterson/nuclear_data/endfb-viii.0-hdf5/neutron/Mo92.h5\n",
      " Reading Mo94 from /home/peterson/nuclear_data/endfb-viii.0-hdf5/neutron/Mo94.h5\n",
      " Reading Mo95 from /home/peterson/nuclear_data/endfb-viii.0-hdf5/neutron/Mo95.h5\n",
      " Reading Mo96 from /home/peterson/nuclear_data/endfb-viii.0-hdf5/neutron/Mo96.h5\n",
      " Reading Mo97 from /home/peterson/nuclear_data/endfb-viii.0-hdf5/neutron/Mo97.h5\n",
      " Reading Mo98 from /home/peterson/nuclear_data/endfb-viii.0-hdf5/neutron/Mo98.h5\n",
      " Reading Mo100 from\n",
      " /home/peterson/nuclear_data/endfb-viii.0-hdf5/neutron/Mo100.h5\n",
      " Reading Co59 from /home/peterson/nuclear_data/endfb-viii.0-hdf5/neutron/Co59.h5\n",
      " Minimum neutron data temperature: 294 K\n",
      " Maximum neutron data temperature: 294 K\n",
      " Reading H1 from /home/peterson/nuclear_data/endfb-viii.0-hdf5/neutron/H1.h5\n",
      " Reading H2 from /home/peterson/nuclear_data/endfb-viii.0-hdf5/neutron/H2.h5\n",
      " Reading H3 from /home/peterson/nuclear_data/endfb-viii.0-hdf5/neutron/H3.h5\n",
      " Reading He3 from /home/peterson/nuclear_data/endfb-viii.0-hdf5/neutron/He3.h5\n",
      " Reading He4 from /home/peterson/nuclear_data/endfb-viii.0-hdf5/neutron/He4.h5\n",
      " Reading S35 from /home/peterson/nuclear_data/endfb-viii.0-hdf5/neutron/S35.h5\n",
      " Reading S36 from /home/peterson/nuclear_data/endfb-viii.0-hdf5/neutron/S36.h5\n",
      " Reading Ar37 from /home/peterson/nuclear_data/endfb-viii.0-hdf5/neutron/Ar37.h5\n",
      " Reading Ar38 from /home/peterson/nuclear_data/endfb-viii.0-hdf5/neutron/Ar38.h5\n",
      " Reading Ar39 from /home/peterson/nuclear_data/endfb-viii.0-hdf5/neutron/Ar39.h5\n",
      " Reading Ar40 from /home/peterson/nuclear_data/endfb-viii.0-hdf5/neutron/Ar40.h5\n",
      " Reading Ar41 from /home/peterson/nuclear_data/endfb-viii.0-hdf5/neutron/Ar41.h5\n",
      " Reading K39 from /home/peterson/nuclear_data/endfb-viii.0-hdf5/neutron/K39.h5\n",
      " Reading K40 from /home/peterson/nuclear_data/endfb-viii.0-hdf5/neutron/K40.h5\n",
      " Reading K41 from /home/peterson/nuclear_data/endfb-viii.0-hdf5/neutron/K41.h5\n",
      " Reading Ca40 from /home/peterson/nuclear_data/endfb-viii.0-hdf5/neutron/Ca40.h5\n",
      " Reading Ca41 from /home/peterson/nuclear_data/endfb-viii.0-hdf5/neutron/Ca41.h5\n",
      " Reading Ca42 from /home/peterson/nuclear_data/endfb-viii.0-hdf5/neutron/Ca42.h5\n",
      " Reading Ca43 from /home/peterson/nuclear_data/endfb-viii.0-hdf5/neutron/Ca43.h5\n",
      " Reading Ca44 from /home/peterson/nuclear_data/endfb-viii.0-hdf5/neutron/Ca44.h5\n",
      " Reading Ca45 from /home/peterson/nuclear_data/endfb-viii.0-hdf5/neutron/Ca45.h5\n",
      " Reading Ca46 from /home/peterson/nuclear_data/endfb-viii.0-hdf5/neutron/Ca46.h5\n",
      " Reading Ca47 from /home/peterson/nuclear_data/endfb-viii.0-hdf5/neutron/Ca47.h5\n",
      " Reading Ca48 from /home/peterson/nuclear_data/endfb-viii.0-hdf5/neutron/Ca48.h5\n",
      " Reading Sc45 from /home/peterson/nuclear_data/endfb-viii.0-hdf5/neutron/Sc45.h5\n",
      " Reading Ti46 from /home/peterson/nuclear_data/endfb-viii.0-hdf5/neutron/Ti46.h5\n",
      " Reading Ti47 from /home/peterson/nuclear_data/endfb-viii.0-hdf5/neutron/Ti47.h5\n",
      " Reading Ti48 from /home/peterson/nuclear_data/endfb-viii.0-hdf5/neutron/Ti48.h5\n",
      " Reading Ti49 from /home/peterson/nuclear_data/endfb-viii.0-hdf5/neutron/Ti49.h5\n",
      " Reading Ti50 from /home/peterson/nuclear_data/endfb-viii.0-hdf5/neutron/Ti50.h5\n",
      " Reading V49 from /home/peterson/nuclear_data/endfb-viii.0-hdf5/neutron/V49.h5\n",
      " Reading V50 from /home/peterson/nuclear_data/endfb-viii.0-hdf5/neutron/V50.h5\n",
      " Reading V51 from /home/peterson/nuclear_data/endfb-viii.0-hdf5/neutron/V51.h5\n",
      " Reading Cr51 from /home/peterson/nuclear_data/endfb-viii.0-hdf5/neutron/Cr51.h5\n",
      " Reading Mn54 from /home/peterson/nuclear_data/endfb-viii.0-hdf5/neutron/Mn54.h5\n",
      " Reading Fe55 from /home/peterson/nuclear_data/endfb-viii.0-hdf5/neutron/Fe55.h5\n",
      " Reading Co58 from /home/peterson/nuclear_data/endfb-viii.0-hdf5/neutron/Co58.h5\n",
      " Reading Ni59 from /home/peterson/nuclear_data/endfb-viii.0-hdf5/neutron/Ni59.h5\n",
      " Reading Ni63 from /home/peterson/nuclear_data/endfb-viii.0-hdf5/neutron/Ni63.h5\n",
      " Reading Cu63 from /home/peterson/nuclear_data/endfb-viii.0-hdf5/neutron/Cu63.h5\n",
      " Reading Cu64 from /home/peterson/nuclear_data/endfb-viii.0-hdf5/neutron/Cu64.h5\n",
      " Reading Cu65 from /home/peterson/nuclear_data/endfb-viii.0-hdf5/neutron/Cu65.h5\n",
      " Reading Zn64 from /home/peterson/nuclear_data/endfb-viii.0-hdf5/neutron/Zn64.h5\n",
      " Reading Zn65 from /home/peterson/nuclear_data/endfb-viii.0-hdf5/neutron/Zn65.h5\n",
      " Reading Zn66 from /home/peterson/nuclear_data/endfb-viii.0-hdf5/neutron/Zn66.h5\n",
      " Reading Zn67 from /home/peterson/nuclear_data/endfb-viii.0-hdf5/neutron/Zn67.h5\n",
      " Reading Se80 from /home/peterson/nuclear_data/endfb-viii.0-hdf5/neutron/Se80.h5\n",
      " Reading Se81 from /home/peterson/nuclear_data/endfb-viii.0-hdf5/neutron/Se81.h5\n",
      " Reading Se82 from /home/peterson/nuclear_data/endfb-viii.0-hdf5/neutron/Se82.h5\n",
      " Reading Kr81 from /home/peterson/nuclear_data/endfb-viii.0-hdf5/neutron/Kr81.h5\n",
      " Reading Kr82 from /home/peterson/nuclear_data/endfb-viii.0-hdf5/neutron/Kr82.h5\n",
      " Reading Kr83 from /home/peterson/nuclear_data/endfb-viii.0-hdf5/neutron/Kr83.h5\n",
      " Reading Kr84 from /home/peterson/nuclear_data/endfb-viii.0-hdf5/neutron/Kr84.h5\n",
      " Reading Kr85 from /home/peterson/nuclear_data/endfb-viii.0-hdf5/neutron/Kr85.h5\n",
      " Reading Kr86 from /home/peterson/nuclear_data/endfb-viii.0-hdf5/neutron/Kr86.h5\n",
      " Reading Rb85 from /home/peterson/nuclear_data/endfb-viii.0-hdf5/neutron/Rb85.h5\n",
      " Reading Rb86 from /home/peterson/nuclear_data/endfb-viii.0-hdf5/neutron/Rb86.h5\n",
      " Reading Rb87 from /home/peterson/nuclear_data/endfb-viii.0-hdf5/neutron/Rb87.h5\n",
      " Reading Sr84 from /home/peterson/nuclear_data/endfb-viii.0-hdf5/neutron/Sr84.h5\n",
      " Reading Sr85 from /home/peterson/nuclear_data/endfb-viii.0-hdf5/neutron/Sr85.h5\n",
      " Reading Sr86 from /home/peterson/nuclear_data/endfb-viii.0-hdf5/neutron/Sr86.h5\n",
      " Reading Sr87 from /home/peterson/nuclear_data/endfb-viii.0-hdf5/neutron/Sr87.h5\n",
      " Reading Sr88 from /home/peterson/nuclear_data/endfb-viii.0-hdf5/neutron/Sr88.h5\n",
      " Reading Sr89 from /home/peterson/nuclear_data/endfb-viii.0-hdf5/neutron/Sr89.h5\n",
      " Reading Sr90 from /home/peterson/nuclear_data/endfb-viii.0-hdf5/neutron/Sr90.h5\n",
      " Reading Y89 from /home/peterson/nuclear_data/endfb-viii.0-hdf5/neutron/Y89.h5\n",
      " Reading Y90 from /home/peterson/nuclear_data/endfb-viii.0-hdf5/neutron/Y90.h5\n",
      " Reading Y91 from /home/peterson/nuclear_data/endfb-viii.0-hdf5/neutron/Y91.h5\n",
      " Reading Zr90 from /home/peterson/nuclear_data/endfb-viii.0-hdf5/neutron/Zr90.h5\n",
      " Reading Zr91 from /home/peterson/nuclear_data/endfb-viii.0-hdf5/neutron/Zr91.h5\n",
      " Reading Zr92 from /home/peterson/nuclear_data/endfb-viii.0-hdf5/neutron/Zr92.h5\n",
      " Reading Zr93 from /home/peterson/nuclear_data/endfb-viii.0-hdf5/neutron/Zr93.h5\n",
      " Reading Zr94 from /home/peterson/nuclear_data/endfb-viii.0-hdf5/neutron/Zr94.h5\n",
      " Reading Zr95 from /home/peterson/nuclear_data/endfb-viii.0-hdf5/neutron/Zr95.h5\n",
      " Reading Zr96 from /home/peterson/nuclear_data/endfb-viii.0-hdf5/neutron/Zr96.h5\n",
      " WARNING: Negative value(s) found on probability table for nuclide Zr96 at 250K\n",
      " WARNING: Negative value(s) found on probability table for nuclide Zr96 at 294K\n",
      " WARNING: Negative value(s) found on probability table for nuclide Zr96 at 600K\n",
      " WARNING: Negative value(s) found on probability table for nuclide Zr96 at 900K\n",
      " WARNING: Negative value(s) found on probability table for nuclide Zr96 at 1200K\n",
      " WARNING: Negative value(s) found on probability table for nuclide Zr96 at 2500K\n",
      " Reading Nb93 from /home/peterson/nuclear_data/endfb-viii.0-hdf5/neutron/Nb93.h5\n",
      " Reading Nb94 from /home/peterson/nuclear_data/endfb-viii.0-hdf5/neutron/Nb94.h5\n",
      " WARNING: Negative value(s) found on probability table for nuclide Nb94 at 250K\n",
      " WARNING: Negative value(s) found on probability table for nuclide Nb94 at 294K\n",
      " WARNING: Negative value(s) found on probability table for nuclide Nb94 at 600K\n",
      " WARNING: Negative value(s) found on probability table for nuclide Nb94 at 900K\n",
      " WARNING: Negative value(s) found on probability table for nuclide Nb94 at 1200K\n",
      " WARNING: Negative value(s) found on probability table for nuclide Nb94 at 2500K\n",
      " Reading Nb95 from /home/peterson/nuclear_data/endfb-viii.0-hdf5/neutron/Nb95.h5\n",
      " WARNING: Negative value(s) found on probability table for nuclide Nb95 at 250K\n",
      " WARNING: Negative value(s) found on probability table for nuclide Nb95 at 294K\n",
      " WARNING: Negative value(s) found on probability table for nuclide Nb95 at 600K\n",
      " WARNING: Negative value(s) found on probability table for nuclide Nb95 at 900K\n",
      " WARNING: Negative value(s) found on probability table for nuclide Nb95 at 1200K\n",
      " Reading Mo93 from /home/peterson/nuclear_data/endfb-viii.0-hdf5/neutron/Mo93.h5\n",
      " Reading Mo99 from /home/peterson/nuclear_data/endfb-viii.0-hdf5/neutron/Mo99.h5\n",
      " WARNING: Negative value(s) found on probability table for nuclide Mo99 at 250K\n",
      " WARNING: Negative value(s) found on probability table for nuclide Mo99 at 294K\n",
      " WARNING: Negative value(s) found on probability table for nuclide Mo99 at 600K\n",
      " WARNING: Negative value(s) found on probability table for nuclide Mo99 at 900K\n",
      " WARNING: Negative value(s) found on probability table for nuclide Mo99 at 1200K\n",
      " WARNING: Negative value(s) found on probability table for nuclide Mo99 at 2500K\n",
      " Reading Tc98 from /home/peterson/nuclear_data/endfb-viii.0-hdf5/neutron/Tc98.h5\n",
      " Reading Tc99 from /home/peterson/nuclear_data/endfb-viii.0-hdf5/neutron/Tc99.h5\n",
      " Reading Ru96 from /home/peterson/nuclear_data/endfb-viii.0-hdf5/neutron/Ru96.h5\n",
      " Reading Ru97 from /home/peterson/nuclear_data/endfb-viii.0-hdf5/neutron/Ru97.h5\n",
      " Reading Ru98 from /home/peterson/nuclear_data/endfb-viii.0-hdf5/neutron/Ru98.h5\n",
      " Reading Ru99 from /home/peterson/nuclear_data/endfb-viii.0-hdf5/neutron/Ru99.h5\n",
      " Reading Ru100 from\n",
      " /home/peterson/nuclear_data/endfb-viii.0-hdf5/neutron/Ru100.h5\n",
      " Reading Ru101 from\n",
      " /home/peterson/nuclear_data/endfb-viii.0-hdf5/neutron/Ru101.h5\n",
      " Reading Ru102 from\n",
      " /home/peterson/nuclear_data/endfb-viii.0-hdf5/neutron/Ru102.h5\n",
      " Reading Ru103 from\n",
      " /home/peterson/nuclear_data/endfb-viii.0-hdf5/neutron/Ru103.h5\n",
      " Reading Ru104 from\n",
      " /home/peterson/nuclear_data/endfb-viii.0-hdf5/neutron/Ru104.h5\n",
      " Reading Rh103 from\n",
      " /home/peterson/nuclear_data/endfb-viii.0-hdf5/neutron/Rh103.h5\n",
      " Preparing distributed cell instances...\n",
      " Writing summary.h5 file...\n",
      " Maximum neutron transport energy: 20000000 eV for Mo92\n",
      "\n",
      " ===============>     FIXED SOURCE TRANSPORT SIMULATION     <===============\n",
      "\n",
      " Simulating batch 1\n",
      " Simulating batch 2\n",
      " Simulating batch 3\n",
      " Simulating batch 4\n",
      " Simulating batch 5\n",
      " Simulating batch 6\n",
      " Simulating batch 7\n",
      " Simulating batch 8\n",
      " Simulating batch 9\n",
      " Simulating batch 10\n",
      " Simulating batch 11\n",
      " Simulating batch 12\n",
      " Simulating batch 13\n",
      " Simulating batch 14\n",
      " Simulating batch 15\n",
      " Simulating batch 16\n",
      " Simulating batch 17\n",
      " Simulating batch 18\n",
      " Simulating batch 19\n",
      " Simulating batch 20\n",
      " Simulating batch 21\n",
      " Simulating batch 22\n",
      " Simulating batch 23\n",
      " Simulating batch 24\n",
      " Simulating batch 25\n",
      " Simulating batch 26\n",
      " Simulating batch 27\n",
      " Simulating batch 28\n",
      " Simulating batch 29\n",
      " Simulating batch 30\n",
      " Simulating batch 31\n",
      " Simulating batch 32\n",
      " Simulating batch 33\n",
      " Simulating batch 34\n",
      " Simulating batch 35\n",
      " Simulating batch 36\n",
      " Simulating batch 37\n",
      " Simulating batch 38\n",
      " Simulating batch 39\n",
      " Simulating batch 40\n",
      " Simulating batch 41\n",
      " Simulating batch 42\n",
      " Simulating batch 43\n",
      " Simulating batch 44\n",
      " Simulating batch 45\n",
      " Simulating batch 46\n",
      " Simulating batch 47\n",
      " Simulating batch 48\n",
      " Simulating batch 49\n",
      " Simulating batch 50\n",
      " Simulating batch 51\n",
      " Simulating batch 52\n",
      " Simulating batch 53\n",
      " Simulating batch 54\n",
      " Simulating batch 55\n",
      " Simulating batch 56\n",
      " Simulating batch 57\n",
      " Simulating batch 58\n",
      " Simulating batch 59\n",
      " Simulating batch 60\n",
      " Simulating batch 61\n",
      " Simulating batch 62\n",
      " Simulating batch 63\n",
      " Simulating batch 64\n",
      " Simulating batch 65\n",
      " Simulating batch 66\n",
      " Simulating batch 67\n",
      " Simulating batch 68\n",
      " Simulating batch 69\n",
      " Simulating batch 70\n",
      " Simulating batch 71\n",
      " Simulating batch 72\n",
      " Simulating batch 73\n",
      " Simulating batch 74\n",
      " Simulating batch 75\n",
      " Simulating batch 76\n",
      " Simulating batch 77\n",
      " Simulating batch 78\n",
      " Simulating batch 79\n",
      " Simulating batch 80\n",
      " Simulating batch 81\n",
      " Simulating batch 82\n",
      " Simulating batch 83\n",
      " Simulating batch 84\n",
      " Simulating batch 85\n",
      " Simulating batch 86\n",
      " Simulating batch 87\n",
      " Simulating batch 88\n",
      " Simulating batch 89\n",
      " Simulating batch 90\n",
      " Simulating batch 91\n",
      " Simulating batch 92\n",
      " Simulating batch 93\n",
      " Simulating batch 94\n",
      " Simulating batch 95\n",
      " Simulating batch 96\n",
      " Simulating batch 97\n",
      " Simulating batch 98\n",
      " Simulating batch 99\n",
      " Simulating batch 100\n",
      " Creating state point statepoint.100.h5...\n",
      "\n",
      " =======================>     TIMING STATISTICS     <=======================\n",
      "\n",
      " Total time for initialization     = 5.2281e+00 seconds\n",
      "   Reading cross sections          = 1.0055e+00 seconds\n",
      " Total time in simulation          = 6.5702e+00 seconds\n",
      "   Time in transport only          = 6.4236e+00 seconds\n",
      "   Time in active batches          = 6.5702e+00 seconds\n",
      "   Time accumulating tallies       = 1.3137e-01 seconds\n",
      "   Time writing statepoints        = 3.2465e-03 seconds\n",
      " Total time for finalization       = 3.4689e-03 seconds\n",
      " Total time elapsed                = 1.1862e+01 seconds\n",
      " Calculation Rate (active)         = 15220.3 particles/second\n",
      "\n",
      " ============================>     RESULTS     <============================\n",
      "\n",
      " Leakage Fraction            = 1.10140 +/- 0.00172\n",
      "\n",
      "[openmc.deplete] t=0.0 s, dt=86400.0 s, source=1000000000000.0\n",
      "[openmc.deplete] t=86400.0 s, dt=86400.0 s, source=0.0\n",
      "[openmc.deplete] t=172800.0 s, dt=86400.0 s, source=1000000000000.0\n",
      "[openmc.deplete] t=259200.0 s, dt=86400.0 s, source=0.0\n",
      "[openmc.deplete] t=345600.0 s, dt=86400.0 s, source=1000000000000.0\n",
      "[openmc.deplete] t=432000.0 s, dt=4320.0 s, source=0.0\n",
      "[openmc.deplete] t=436320.0 s, dt=8640.0 s, source=0.0\n",
      "[openmc.deplete] t=444960.0 s, dt=12960.0 s, source=0.0\n",
      "[openmc.deplete] t=457920.0 s, dt=17280.0 s, source=0.0\n",
      "[openmc.deplete] t=475200.0 s, dt=43200.0 s, source=0.0\n",
      "[openmc.deplete] t=518400.0 s, dt=86400.0 s, source=0.0\n",
      "[openmc.deplete] t=604800.0 s, dt=172800.0 s, source=0.0\n",
      "[openmc.deplete] t=777600.0 s, dt=345600.0 s, source=0.0\n",
      "[openmc.deplete] t=1123200.0 s, dt=604800.0 s, source=0.0\n",
      "[openmc.deplete] t=1728000.0 s, dt=1209600.0 s, source=0.0\n",
      "[openmc.deplete] t=2937600.0 s, dt=2592000.0 s, source=0.0\n",
      "[openmc.deplete] t=5529600.0 s, dt=5184000.0 s, source=0.0\n",
      "[openmc.deplete] t=10713600.0 s, dt=10368000.0 s, source=0.0\n"
     ]
    }
   ],
   "source": [
    "fluxes, micros = openmc.deplete.get_microxs_and_flux(model, cells, chain_file='chain_endfb80_pwr_reduced.xml')\n",
    "activation_cells = {}\n",
    "for cell_id, cell in model.geometry.get_all_cells().items():\n",
    "    if cell.fill is not None and cell.fill.depletable:\n",
    "        activation_cells[cell_id] = cell\n",
    "activation_materials = openmc.Materials([cell.fill for cell in activation_cells.values()])\n",
    "\n",
    "op = openmc.deplete.IndependentOperator(activation_materials, fluxes[:-2], micros[:-2],\n",
    "                                        chain_file='chain_endfb80_pwr_reduced.xml',\n",
    "                                        normalization_mode='source-rate')\n",
    "integrator = openmc.deplete.PredictorIntegrator(op, timesteps, source_rates=source_rates)\n",
    "integrator.integrate(final_step=False)"
   ]
  },
  {
   "cell_type": "markdown",
   "id": "8c88388a-d387-4ec5-84e0-6674cc45d785",
   "metadata": {},
   "source": [
    "Generate the radioactive source (5 now instead of just 1)"
   ]
  },
  {
   "cell_type": "code",
   "execution_count": 38,
   "id": "4af475a6-1c5b-45dc-826a-37f0d29bd1a0",
   "metadata": {},
   "outputs": [],
   "source": [
    "results = openmc.deplete.Results('depletion_results.h5')\n",
    "source_spectra = {}\n",
    "# just want to loop over the cooling times\n",
    "for i, time in list(enumerate(timesteps))[5:]:\n",
    "    source_spectra[i] = {}\n",
    "    for cell_id, cell in activation_cells.items():\n",
    "        mat = results[i].get_material(str(cell.fill.id))\n",
    "        source_spectra[i][cell_id] = mat.get_decay_photon_energy()"
   ]
  },
  {
   "cell_type": "markdown",
   "id": "70a3fc50-3d54-4d51-8cd1-5c5bfab6c359",
   "metadata": {},
   "source": [
    "Revamp for the photon transport simulations"
   ]
  },
  {
   "cell_type": "code",
   "execution_count": 39,
   "id": "9cdbee74-02d3-4730-92ca-ceec66dcce11",
   "metadata": {},
   "outputs": [
    {
     "name": "stdout",
     "output_type": "stream",
     "text": [
      "Cooling Time 5: 4320.0 seconds\n",
      "\tSource strength for Cell 4: 2.951e+10 γ/s\n",
      "\tSource strength for Cell 5: 2.087e+10 γ/s\n",
      "\tSource strength for Cell 6: 1.431e+10 γ/s\n",
      "\tSource strength for Cell 7: 9.662e+09 γ/s\n",
      "\tSource strength for Cell 8: 6.312e+09 γ/s\n",
      "Cooling Time 6: 8640.0 seconds\n",
      "\tSource strength for Cell 4: 1.924e+10 γ/s\n",
      "\tSource strength for Cell 5: 1.361e+10 γ/s\n",
      "\tSource strength for Cell 6: 9.332e+09 γ/s\n",
      "\tSource strength for Cell 7: 6.300e+09 γ/s\n",
      "\tSource strength for Cell 8: 4.116e+09 γ/s\n",
      "Cooling Time 7: 12960.0 seconds\n",
      "\tSource strength for Cell 4: 1.070e+10 γ/s\n",
      "\tSource strength for Cell 5: 7.573e+09 γ/s\n",
      "\tSource strength for Cell 6: 5.198e+09 γ/s\n",
      "\tSource strength for Cell 7: 3.509e+09 γ/s\n",
      "\tSource strength for Cell 8: 2.292e+09 γ/s\n",
      "Cooling Time 8: 17280.0 seconds\n",
      "\tSource strength for Cell 4: 4.854e+09 γ/s\n",
      "\tSource strength for Cell 5: 3.444e+09 γ/s\n",
      "\tSource strength for Cell 6: 2.369e+09 γ/s\n",
      "\tSource strength for Cell 7: 1.600e+09 γ/s\n",
      "\tSource strength for Cell 8: 1.044e+09 γ/s\n",
      "Cooling Time 9: 43200.0 seconds\n",
      "\tSource strength for Cell 4: 2.229e+09 γ/s\n",
      "\tSource strength for Cell 5: 1.591e+09 γ/s\n",
      "\tSource strength for Cell 6: 1.099e+09 γ/s\n",
      "\tSource strength for Cell 7: 7.428e+08 γ/s\n",
      "\tSource strength for Cell 8: 4.840e+08 γ/s\n",
      "Cooling Time 10: 86400.0 seconds\n",
      "\tSource strength for Cell 4: 1.181e+09 γ/s\n",
      "\tSource strength for Cell 5: 8.512e+08 γ/s\n",
      "\tSource strength for Cell 6: 5.927e+08 γ/s\n",
      "\tSource strength for Cell 7: 4.012e+08 γ/s\n",
      "\tSource strength for Cell 8: 2.608e+08 γ/s\n",
      "Cooling Time 11: 172800.0 seconds\n",
      "\tSource strength for Cell 4: 9.696e+08 γ/s\n",
      "\tSource strength for Cell 5: 7.030e+08 γ/s\n",
      "\tSource strength for Cell 6: 4.910e+08 γ/s\n",
      "\tSource strength for Cell 7: 3.329e+08 γ/s\n",
      "\tSource strength for Cell 8: 2.164e+08 γ/s\n",
      "Cooling Time 12: 345600.0 seconds\n",
      "\tSource strength for Cell 4: 7.636e+08 γ/s\n",
      "\tSource strength for Cell 5: 5.576e+08 γ/s\n",
      "\tSource strength for Cell 6: 3.905e+08 γ/s\n",
      "\tSource strength for Cell 7: 2.653e+08 γ/s\n",
      "\tSource strength for Cell 8: 1.726e+08 γ/s\n",
      "Cooling Time 13: 604800.0 seconds\n",
      "\tSource strength for Cell 4: 5.955e+08 γ/s\n",
      "\tSource strength for Cell 5: 4.375e+08 γ/s\n",
      "\tSource strength for Cell 6: 3.068e+08 γ/s\n",
      "\tSource strength for Cell 7: 2.088e+08 γ/s\n",
      "\tSource strength for Cell 8: 1.360e+08 γ/s\n",
      "Cooling Time 14: 1209600.0 seconds\n",
      "\tSource strength for Cell 4: 5.013e+08 γ/s\n",
      "\tSource strength for Cell 5: 3.694e+08 γ/s\n",
      "\tSource strength for Cell 6: 2.590e+08 γ/s\n",
      "\tSource strength for Cell 7: 1.765e+08 γ/s\n",
      "\tSource strength for Cell 8: 1.151e+08 γ/s\n",
      "Cooling Time 15: 2592000.0 seconds\n",
      "\tSource strength for Cell 4: 4.191e+08 γ/s\n",
      "\tSource strength for Cell 5: 3.097e+08 γ/s\n",
      "\tSource strength for Cell 6: 2.174e+08 γ/s\n",
      "\tSource strength for Cell 7: 1.482e+08 γ/s\n",
      "\tSource strength for Cell 8: 9.667e+07 γ/s\n",
      "Cooling Time 16: 5184000.0 seconds\n",
      "\tSource strength for Cell 4: 3.080e+08 γ/s\n",
      "\tSource strength for Cell 5: 2.283e+08 γ/s\n",
      "\tSource strength for Cell 6: 1.605e+08 γ/s\n",
      "\tSource strength for Cell 7: 1.096e+08 γ/s\n",
      "\tSource strength for Cell 8: 7.147e+07 γ/s\n",
      "Cooling Time 17: 10368000.0 seconds\n",
      "\tSource strength for Cell 4: 1.897e+08 γ/s\n",
      "\tSource strength for Cell 5: 1.403e+08 γ/s\n",
      "\tSource strength for Cell 6: 9.858e+07 γ/s\n",
      "\tSource strength for Cell 7: 6.725e+07 γ/s\n",
      "\tSource strength for Cell 8: 4.387e+07 γ/s\n"
     ]
    }
   ],
   "source": [
    "cells = model.geometry.get_all_cells()\n",
    "# Create sources for each depletable region for each time point\n",
    "source_time_dict = {}\n",
    "for i, time in list(enumerate(timesteps))[5:]:\n",
    "    sources = []\n",
    "    print(f\"Cooling Time {i}: {time} seconds\")\n",
    "    for cell_id, cell in activation_cells.items():\n",
    "        bb = cell.bounding_box\n",
    "        space = openmc.stats.Box(bb.lower_left, bb.upper_right)\n",
    "        energy = source_spectra[i][cell_id]\n",
    "        strength = energy.integral()\n",
    "        print(f\"\\tSource strength for Cell {cell_id}: {strength:1.3e} γ/s\")\n",
    "    \n",
    "        source = openmc.IndependentSource(space=space,\n",
    "                                          energy=energy,\n",
    "                                          particle='photon',\n",
    "                                          strength=strength,\n",
    "                                          constraints={'domains':[cell]})\n",
    "        sources.append(source)\n",
    "    source_time_dict[i] = sources\n",
    "model.particles = 10000\n",
    "model.tallies = dose_tallies"
   ]
  },
  {
   "cell_type": "code",
   "execution_count": 40,
   "id": "12418e49-634d-4043-af4f-78578de44b55",
   "metadata": {},
   "outputs": [
    {
     "name": "stdout",
     "output_type": "stream",
     "text": [
      "Photon transport calculation (5), source = 8.067e+10 γ/s ...\n",
      "Dose rate (flux) = 1.076e-01 Sv/h\n",
      "Photon transport calculation (6), source = 5.260e+10 γ/s ...\n",
      "Dose rate (flux) = 6.896e-02 Sv/h\n",
      "Photon transport calculation (7), source = 2.927e+10 γ/s ...\n",
      "Dose rate (flux) = 3.743e-02 Sv/h\n",
      "Photon transport calculation (8), source = 1.331e+10 γ/s ...\n",
      "Dose rate (flux) = 1.514e-02 Sv/h\n",
      "Photon transport calculation (9), source = 6.146e+09 γ/s ...\n",
      "Dose rate (flux) = 4.849e-03 Sv/h\n",
      "Photon transport calculation (10), source = 3.286e+09 γ/s ...\n",
      "Dose rate (flux) = 2.208e-03 Sv/h\n",
      "Photon transport calculation (11), source = 2.713e+09 γ/s ...\n",
      "Dose rate (flux) = 1.527e-03 Sv/h\n",
      "Photon transport calculation (12), source = 2.150e+09 γ/s ...\n",
      "Dose rate (flux) = 1.127e-03 Sv/h\n",
      "Photon transport calculation (13), source = 1.685e+09 γ/s ...\n",
      "Dose rate (flux) = 7.780e-04 Sv/h\n",
      "Photon transport calculation (14), source = 1.421e+09 γ/s ...\n",
      "Dose rate (flux) = 7.503e-04 Sv/h\n",
      "Photon transport calculation (15), source = 1.191e+09 γ/s ...\n",
      "Dose rate (flux) = 6.353e-04 Sv/h\n",
      "Photon transport calculation (16), source = 8.780e+08 γ/s ...\n",
      "Dose rate (flux) = 5.244e-04 Sv/h\n",
      "Photon transport calculation (17), source = 5.397e+08 γ/s ...\n",
      "Dose rate (flux) = 3.195e-04 Sv/h\n"
     ]
    }
   ],
   "source": [
    "for i, time in list(enumerate(timesteps))[5:]:\n",
    "    model.settings.source = source_time_dict[i]\n",
    "    # Run OpenMC and compute dose\n",
    "    intensity = sum(s.strength for s in model.settings.source)\n",
    "    print(f'Photon transport calculation ({i}), source = {intensity:.3e} γ/s ...')\n",
    "    sp_filename = model.run(output=False, cwd=f'photon_{i}')\n",
    "    with openmc.StatePoint(sp_filename) as sp:\n",
    "        flux_tally = list(sp.tallies.values())[0]\n",
    "    # Calculate dose using flux-to-dose conversion factor\n",
    "    mean = flux_tally.mean.squeeze()\n",
    "    stdev = flux_tally.std_dev.squeeze()\n",
    "    #pSv_cm3_per_sec = ufloat(mean, stdev)\n",
    "    pSv_per_sec = mean / detector.volume\n",
    "    Sv_per_h = pSv_per_sec * 1e-12 * 3600.\n",
    "    print(f'Dose rate (flux) = {Sv_per_h:1.3e} Sv/h')"
   ]
  },
  {
   "cell_type": "code",
   "execution_count": 41,
   "id": "92bccc56-f9e1-4a70-a895-65a1c6ee5610",
   "metadata": {},
   "outputs": [
    {
     "data": {
      "image/png": "[encoded data removed]",
      "text/plain": [
       "<Figure size 576x384 with 1 Axes>"
      ]
     },
     "metadata": {},
     "output_type": "display_data"
    }
   ],
   "source": [
    "new_doses = get_doses()\n",
    "fig, ax = plt.subplots()\n",
    "cooling_times = times[5:]/ (3600*24)\n",
    "ax.loglog(cooling_times, original_doses, \"x\", ms=6, mew=1)\n",
    "ax.loglog(cooling_times, new_doses, \"o\", ms=6, mew=1)\n",
    "ax.set_xlabel('Cooling Time (days)')\n",
    "ax.set_ylabel('Dose (Sv/h)')\n",
    "plt.show()"
   ]
  },
  {
   "cell_type": "markdown",
   "id": "d90ed7ad-19e6-4d38-9149-340fdac3fead",
   "metadata": {},
   "source": [
    "woot now you know everything about R2S in OpenMC!"
   ]
  }
 ],
 "metadata": {
  "kernelspec": {
   "display_name": "Python 3 (ipykernel)",
   "language": "python",
   "name": "python3"
  },
  "language_info": {
   "codemirror_mode": {
    "name": "ipython",
    "version": 3
   },
   "file_extension": ".py",
   "mimetype": "text/x-python",
   "name": "python",
   "nbconvert_exporter": "python",
   "pygments_lexer": "ipython3",
   "version": "3.12.2"
  }
 },
 "nbformat": 4,
 "nbformat_minor": 5
}
