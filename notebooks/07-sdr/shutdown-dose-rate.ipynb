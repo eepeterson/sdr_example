{
 "cells": [
  {
   "cell_type": "markdown",
   "id": "fa4750fb-ee60-4931-bcdf-6dfee89c8f02",
   "metadata": {},
   "source": [
    "# Performing Shutdown Dose Rate Calculations\n",
    "\n",
    "In this module, we'll be learning how to calculate the Shutdown Dose Rate (SDR) for a very simple system. In this section, we will introduce [OpenMC's depletion capabilities](https://openmc.readthedocs.io/en/stable/) for performing SDR calculations using the Rigorous 2-Step (R2S) method. The R2S process allows one to calculate dose rate maps from the transport of radioactive decay products like gamma rays after a given irradiation scenario. The process couples an initial neutron transport simulation for computing flux spectrum integrated reaction rates for a defined spatial discretization to an inventory solver to compute nuclide inventories given an irradiation scenario. Once the new (likely radioactive) material compositions are computed, they are turned into photon sources based on the nuclear data contained in depletion chains. These photon sources are then used for a second transport simulation to compute the dose rate at desired locations. In this tutorial, we will only consider cell-wise spatial discretization for simplicity. However, mesh-based R2S calculations are currently feasible in OpenMC.\n",
    "\n",
    "### Task Outline for this tutorial\n",
    "1. Build a steel slab activation model between a 14 MeV neutron source and a photon detector\n",
    "2. Calculate volume averaged fluxes and microscopic cross sections in the model for use in depletion\n",
    "3. Define an irradiation scenario and solve the Bateman equations using CRAM\n",
    "4. Compute photon sources at different time points during the irradiation scenario\n",
    "5. Run photon transport at different time points to compute dose at the detector location as a function of time\n",
    "6. Change the spatial discretization of the problem to observe effects on the computed dose at the detector\n",
    "7. Compare results from the two types of simulations"
   ]
  },
  {
   "cell_type": "code",
   "execution_count": null,
   "id": "36edb46b-9e22-480d-abd3-3c823a9749e2",
   "metadata": {},
   "outputs": [],
   "source": []
  },
  {
   "cell_type": "markdown",
   "id": "a44cc1bb-8bfd-48f3-b539-3abbde58b3ae",
   "metadata": {},
   "source": [
    "## Task 1: Build steel slab activation model with detector\n",
    "We will create a simple slab geometry irradiated by a monoenergetic, monodirectional 14 MeV point neutron source. On the opposite side of the slab we will create a detector to measure the photon dose rate. Our neutron source will be at the origin and be irradiating a 20cm x 20cm x 15cm slab of steel. Let's start by creating an OpenMC `Model` object and defining some basic variables for the geometry of the system."
   ]
  },
  {
   "cell_type": "code",
   "execution_count": null,
   "id": "cc6579ac-6a1b-4982-ab02-39d089ddac86",
   "metadata": {},
   "outputs": [],
   "source": []
  },
  {
   "cell_type": "markdown",
   "id": "83dd3bf8-183b-4b35-90d5-f268c8bd5df3",
   "metadata": {},
   "source": [
    "We want the slab to extend from -10cm to +10cm in both $x$ and $y$ dimensions as well as from 1cm to 16cm in $z$. We also need to compute the volumes of each of these regions. For a more complicated system, we can run a stochastic volume calculation for each cell to get these values."
   ]
  },
  {
   "cell_type": "code",
   "execution_count": null,
   "id": "e9db71fc-93fb-4b9f-9613-cbfdb9d0a2bb",
   "metadata": {},
   "outputs": [],
   "source": []
  },
  {
   "cell_type": "markdown",
   "id": "f5b1eb29-bcdb-4c23-8a26-036570d10477",
   "metadata": {},
   "source": [
    "Now we can create the surfaces necessary to build our model using some of the handy composite surface capabilities similar to MCNP \"macrobodies\"."
   ]
  },
  {
   "cell_type": "code",
   "execution_count": null,
   "id": "6e78bb71-5ab7-414b-8184-0bee7339402d",
   "metadata": {},
   "outputs": [],
   "source": []
  },
  {
   "cell_type": "markdown",
   "id": "a7c7016d-db66-4c5c-8188-129edf45ac4a",
   "metadata": {},
   "source": [
    "Let's create a simple nickel-iron-chromium alloy with a little bit of manganese, molybdenum, and cobalt thrown in for a bit more spice to fill our slab. We also need to set the depletable attribute of the steel to let OpenMC know that this material should be considered during depletion calculations."
   ]
  },
  {
   "cell_type": "code",
   "execution_count": null,
   "id": "04bd759d-91bb-488b-9610-a308ff39c203",
   "metadata": {},
   "outputs": [],
   "source": []
  },
  {
   "cell_type": "markdown",
   "id": "f49b5281-7e7f-4b30-a15f-86e53dcd29eb",
   "metadata": {},
   "source": [
    "When we get to the depletion portion of this tutorial we will need to assign a volume to the steel material. All materials that get depleted in OpenMC must meet two requirements:\n",
    "\n",
    "`material.depletable = True` and their `volume` attribute must be set.\n",
    "\n",
    "Let's create the `Cell` objects for our model and calculate their volumes."
   ]
  },
  {
   "cell_type": "code",
   "execution_count": null,
   "id": "63522718-143c-4c09-8eff-ddf1a1c45ba9",
   "metadata": {},
   "outputs": [],
   "source": []
  },
  {
   "cell_type": "markdown",
   "id": "ffdc59a5-cce8-4879-b1c3-122361f015a6",
   "metadata": {},
   "source": [
    "We can use the bounding box property of the slab cell to get the volume"
   ]
  },
  {
   "cell_type": "code",
   "execution_count": null,
   "id": "c52016ec-4804-4df9-9c9f-7e5cd6fc278c",
   "metadata": {},
   "outputs": [],
   "source": []
  },
  {
   "cell_type": "markdown",
   "id": "de648062-b241-4543-96db-5da3f186e804",
   "metadata": {},
   "source": [
    "So, we're happy with our geometry and materials, the only remaining need for our neutron transport simulation in support of shutdown dose rates is the neutron source and simulation settings. Let's create a simple, monoenergetic 14 MeV source pointing in the $z$-direction and run a fixed source simulation."
   ]
  },
  {
   "cell_type": "code",
   "execution_count": null,
   "id": "a9f6fbc3-95a1-4e6f-b9fd-692a4d5c8b7c",
   "metadata": {},
   "outputs": [],
   "source": []
  },
  {
   "cell_type": "markdown",
   "id": "9857e16d-5cd2-4ff2-b6ab-e9cd410e2bd1",
   "metadata": {},
   "source": [
    "It will become handy later to have a reference to this neutron source so let's assign it another variable name we will remember later on"
   ]
  },
  {
   "cell_type": "code",
   "execution_count": null,
   "id": "f8bf0326-4a1d-4b41-be99-7424172cdc1f",
   "metadata": {},
   "outputs": [],
   "source": []
  },
  {
   "cell_type": "markdown",
   "id": "ec8948f0-8d28-45b1-9b3b-23d7a31ff0fb",
   "metadata": {},
   "source": [
    "## Task 2: Compute flux-averaged microscopic cross sections and neutron fluxes in each cell\n",
    "Now we need to run our neutron transport calculation to get the reaction rates. The [`get_microxs_and_flux function`](https://docs.openmc.org/en/stable/pythonapi/generated/openmc.deplete.get_microxs_and_flux.html) does this for us. All we need to do is provide it the model object and the `domains` where we want to independently tally reaction rates. Tallies will be automatically generated under the hood based on the current depletion chain file and what cross sections are available. What we are calculating in this step is below. The cross section of transmuting nuclide i into nuclide j in volume k and the volume averaged flux $\\phi_k$ in volume $k$: \n",
    "$$ \n",
    " \\phi_k = \\int_{V_k} d\\mathbf{r} \\int d\\mathbf{\\Omega} \\int\n",
    "    dE  \\psi (\\mathbf{r}, \\mathbf{\\Omega}, E)\n",
    "$$\n",
    "$$ \n",
    " \\bar{\\sigma}_{ijk} = \\frac{1}{\\phi_k}\\int_{V_k} d\\mathbf{r} \\int d\\mathbf{\\Omega} \\int\n",
    "    dE \\sigma_{ij}(\\mathbf{r}, \\mathbf{\\Omega},\n",
    "    E) \\psi (\\mathbf{r}, \\mathbf{\\Omega}, E)\n",
    "$$\n",
    "$$ \n",
    " RR_{ij} = S_0\\bar{\\sigma}_{ijk}\\phi_k n_i\n",
    "$$"
   ]
  },
  {
   "cell_type": "markdown",
   "id": "121e3e74-92e8-4938-ab94-9d9b332b5a60",
   "metadata": {},
   "source": [
    "To do this takes only one line of code. This function below is telling OpenMC to run a neutron transport simulation, and compute the volume integrated neutron flux and flux-averaged microscopic cross sections to be used later in a depletion simulation. All that is required is the neutron transport model and the domains (in this case cells) which form the spatial discretization that we desire for the activation calculation. Let's run it and see what happens..."
   ]
  },
  {
   "cell_type": "code",
   "execution_count": null,
   "id": "d2a7b65e-9a75-4ba0-a7e9-371cbe6375f3",
   "metadata": {},
   "outputs": [],
   "source": []
  },
  {
   "cell_type": "markdown",
   "id": "6d92014d-32e2-418c-8888-02402f674bc8",
   "metadata": {},
   "source": [
    "As you probably noticed it's taking a very long time and loading a _whole_ lot of data that we probably don't care about. Why is that? It has to do with something called the depletion chain. The depletion chain is a file that catalogs for every nuclide in the nuclear data library, things like: \n",
    "1. half life\n",
    "2. types of radioactive decay, branching ratios, and decay energy\n",
    "3. particle emission spectra from decay\n",
    "4. types of neutron induced reactions, Q values, and daughter products\n",
    "\n",
    "For example, let's take a look at the section of the [official ENDF/B-VIII.0 depletion chain](https://openmc.org/depletion-chains/) pertaining to target nuclides Co58, Co58m, Co59, Co60. Co59 is stable whereas the other 3 nuclides are not."
   ]
  },
  {
   "cell_type": "code",
   "execution_count": null,
   "id": "8310542c-df83-481f-9e6b-ec01148a3f05",
   "metadata": {},
   "outputs": [],
   "source": []
  },
  {
   "cell_type": "markdown",
   "id": "6e32c76c-6d3e-4699-82d5-dad1bfeb37a5",
   "metadata": {},
   "source": [
    "By default, `get_microxs_and_flux` will use whatever depletion chain is available according to `openmc.config[\"chain_file\"]`. Since that was the full ENDF/B-VIII.0 depletion chain we have 3820 nuclides which we can confirm below by inspecting the `openmc.deplete.Chain` object representation of the chain file."
   ]
  },
  {
   "cell_type": "code",
   "execution_count": null,
   "id": "74f9011a-7508-4148-9b86-b50cc7bbebe7",
   "metadata": {},
   "outputs": [],
   "source": []
  },
  {
   "cell_type": "markdown",
   "id": "30398235-853d-48ef-82aa-3f5edef1b144",
   "metadata": {},
   "source": [
    "Since we don't want OpenMC to waste time tallying reactions that we know aren't important to our problem we can use a few key pieces of information to drastically simplify the activation portion of the calculation. These two pieces of information are:\n",
    "1. The initial nuclides in the problem prior to any irradiation steps (just the nuclides we added to the steel in this case).\n",
    "2. The number of multistep reactions we want to consider also know as the `level`. "
   ]
  },
  {
   "cell_type": "code",
   "execution_count": null,
   "id": "1540c34c-d3d7-4c4f-8d0e-ccec6e166656",
   "metadata": {},
   "outputs": [],
   "source": []
  },
  {
   "cell_type": "markdown",
   "id": "396a54c2-e9cb-4d9b-9101-f0f5549ae2bb",
   "metadata": {},
   "source": [
    "Now we can reduce the full depletion chain to only consider the nuclides within 5 reaction steps of all of these starting nuclides like so:"
   ]
  },
  {
   "cell_type": "code",
   "execution_count": null,
   "id": "3b6fcbf7-e3fc-4650-972b-88b0f321ef2b",
   "metadata": {},
   "outputs": [],
   "source": []
  },
  {
   "cell_type": "markdown",
   "id": "b68fef1a-24b3-4208-8783-86d5c9ff6d32",
   "metadata": {},
   "source": [
    "How much has this reduced our chain? Let's check the length of the list of nuclides..."
   ]
  },
  {
   "cell_type": "code",
   "execution_count": null,
   "id": "d1bd66f7-7f43-4409-9976-3fb29431d8e2",
   "metadata": {},
   "outputs": [],
   "source": []
  },
  {
   "cell_type": "markdown",
   "id": "e6125103-01b7-4e25-b065-cabf0fb77ca4",
   "metadata": {},
   "source": [
    "Now we see that ran much faster and loaded far fewer nuclide cross sections"
   ]
  },
  {
   "cell_type": "code",
   "execution_count": null,
   "id": "36f55c71-1b1c-4b99-a948-58e55838b63a",
   "metadata": {},
   "outputs": [],
   "source": []
  },
  {
   "cell_type": "markdown",
   "id": "ea182b3e-7a1f-4f32-9dbf-4b7e7e99c956",
   "metadata": {},
   "source": [
    "## Task 3: Defining an irradiation scenario and solving the Bateman equations\n",
    "The [OpenMC theory guide on depletion](https://docs.openmc.org/en/stable/methods/depletion.html) does a good job of explaining the basics of solving the coupled system of ODE's for nuclide inventory evolution known as the Bateman Equations. Let's start with a simple pulsed scenario comprised of 3 pulses each of 1 day on, 1 day off. Then we can let the system decay for 6 months and take a look at the dose rates at a bunch of points in the cooldown phase."
   ]
  },
  {
   "cell_type": "code",
   "execution_count": null,
   "id": "83c043a1-abf1-429f-9a2f-1eb963c87bf2",
   "metadata": {},
   "outputs": [],
   "source": []
  },
  {
   "cell_type": "markdown",
   "id": "ccc4b603-02be-4132-a274-9cdd9a8a1815",
   "metadata": {},
   "source": [
    "Now we need to choose an \"Operator\" for the depletion calculation. The Operator here refers to the Transport Operator and defines how we compute the reaction rates, and proper normalization. The Operator is responsible for taking outputs from a neutron transport simulation, combining them with information in the depletion chains and building the burnup matrix in order to solve the Bateman equations.\n",
    "\n",
    "For fusion relevant activation problems we can often use what we call the `IndependentOperator` The reason it is considered \"Independent\" is because there is no need for the depletion solve to be coupled to a new transport solution at different time steps. By the nature of a fixed source problem with little to no fissionable material, the neutron source term is not significantly affected by changes to the material composition. As such, the elements of the burnup matrix will not change much from one timestep to another aside from multiplication by a scalar value (the pulse source rate in n/s or 0 for a pure decay step). \n",
    "\n",
    "Therefore we can choose to set up a \"transport independent operator\" for managing the depletion process of our steel slab based on the fluxes and microscopic cross sections we calculated in Task 2. The only additional information we need to pass to our Operator is the reduced chain file we previously produced as well as to tell the operator how it should normalize reaction rates. For a fixed source problem we want the normalization based on the neutron source rate in the plasma rather than the power level as in a fission reactor."
   ]
  },
  {
   "cell_type": "code",
   "execution_count": null,
   "id": "7527ee85-d96e-4be6-a134-1a42f17fc95b",
   "metadata": {},
   "outputs": [],
   "source": []
  },
  {
   "cell_type": "markdown",
   "id": "237fefcb-cf54-45e7-b237-b5f9fa129124",
   "metadata": {},
   "source": [
    "The final step before executing the depletion calculation is to choose a time integration scheme. OpenMC has many time integration schemes available from the simplest 1 step Predictor algorithm to complex multistep predictor-corrector and Runge-Kutta algorithms. The nice thing about fixed source depletion is that if the burnup matrix elements do not change in time, there is no need for higher-order algorithms - they all reduce to the 1-step predictor in that limit! Therefore we will only use this scheme for shutdown dose rate problems.\n",
    "\n",
    "To set up the integrator all we need to pass in are the operator which manages the depletion, the timestep schedule and associated source rates."
   ]
  },
  {
   "cell_type": "code",
   "execution_count": null,
   "id": "be31996c-7084-4bd6-8b53-b09c23c795da",
   "metadata": {},
   "outputs": [],
   "source": []
  },
  {
   "cell_type": "markdown",
   "id": "504faf9c-6f47-48c7-ac90-b1f749020944",
   "metadata": {},
   "source": [
    "Now we can execute the integration which will result in a depletion simulation and provide us with nuclide inventories at all the timesteps we want. We also don't want to run another transport calculation at the final step so let's skip that part by disabling the optional `final_step` argument."
   ]
  },
  {
   "cell_type": "code",
   "execution_count": null,
   "id": "1d6cb667-d5d2-4c8a-9809-a98b62df9869",
   "metadata": {},
   "outputs": [],
   "source": []
  },
  {
   "cell_type": "markdown",
   "id": "3ebf1f40-5009-44d2-ac47-d8328de1c972",
   "metadata": {},
   "source": [
    "## Task 4: Generate photon sources at decay steps from depletion results"
   ]
  },
  {
   "cell_type": "markdown",
   "id": "c45042c5-0aee-4d3a-a44c-a0aa960f5c16",
   "metadata": {},
   "source": [
    "We can view these results by loading the `depletion_results.h5` file"
   ]
  },
  {
   "cell_type": "code",
   "execution_count": null,
   "id": "3357b0d8-7c75-4d76-871e-127e8e116000",
   "metadata": {},
   "outputs": [],
   "source": []
  },
  {
   "cell_type": "markdown",
   "id": "b877a58e-73d6-4825-8bc7-566e57e6adc2",
   "metadata": {},
   "source": [
    "Now for all the cells in the model that we activated we need to get the decay photon source spectrum. To do this we will create a dictionary mapping activation cell IDs to their Cell instances. Then we will get the decay photon energy spectrum for each depleted material in the model."
   ]
  },
  {
   "cell_type": "code",
   "execution_count": null,
   "id": "a6b42db6-f832-4c35-9952-586720302bfa",
   "metadata": {},
   "outputs": [],
   "source": []
  },
  {
   "cell_type": "markdown",
   "id": "c4e2ce20-8504-42a7-8788-fe2ded4709a8",
   "metadata": {},
   "source": [
    "Now we can visualize the photon source in each cell for each time point if we want"
   ]
  },
  {
   "cell_type": "code",
   "execution_count": null,
   "id": "fb8f6101-e581-4905-841e-626ab0ba9f38",
   "metadata": {},
   "outputs": [],
   "source": []
  },
  {
   "cell_type": "markdown",
   "id": "650737e7-8b93-4aff-8002-074375f211bb",
   "metadata": {},
   "source": [
    "## Task 5: Run Photon transport simulations for each decay time"
   ]
  },
  {
   "cell_type": "markdown",
   "id": "2e387fdf-e308-4b17-a5bf-52a2846f2b39",
   "metadata": {},
   "source": [
    "Let's create a `Tally` to calculate the dose in our detector cell and add it to our photon transport model. We want to create a `CellFilter` only including the detector as well as a `ParticleFilter` for photons and score the photon flux. To convert this to dose equivalent, we'll use the ICRP-116 flux-to-dose conversion factors for photons that are available through the `openmc.data` module. To do this we can leverage the `EnergyFunctionFilter` capabilities that allow us to perform a transformation to the photon flux based on the incoming energy during the simulation. Since the flux-to-dose conversion factors depend on energy we can either do this calculation in the code or apply a sufficiently fine `EnergyFilter` to the tally and apply it in postprocessing. We will do the former for simplicity for now."
   ]
  },
  {
   "cell_type": "code",
   "execution_count": null,
   "id": "1e756349-2270-47f1-9d1b-e68946ef124c",
   "metadata": {},
   "outputs": [],
   "source": []
  },
  {
   "cell_type": "markdown",
   "id": "4de99fb5-517a-400f-a9f1-2845ee969d6f",
   "metadata": {},
   "source": [
    "Now let's loop through each cooling time and compute the dose at different times"
   ]
  },
  {
   "cell_type": "code",
   "execution_count": null,
   "id": "badd3d42-fb9a-4ffd-8c91-def153ca0a7f",
   "metadata": {},
   "outputs": [],
   "source": []
  },
  {
   "cell_type": "markdown",
   "id": "698f8fc3-e368-4bd2-be75-0687faeebee6",
   "metadata": {},
   "source": [
    "## Task 6: Plot dose vs time at the detector"
   ]
  },
  {
   "cell_type": "code",
   "execution_count": null,
   "id": "7ce4ead9-f2c3-427c-86fa-9ea507f0c913",
   "metadata": {},
   "outputs": [],
   "source": []
  },
  {
   "cell_type": "markdown",
   "id": "f5347f29-a381-4b18-8c47-171092ef524e",
   "metadata": {},
   "source": [
    "## Task 7: Redo this problem with finer discretization of the steel\n",
    "Let's redo this exact problem, but with five 3cm thick slabs of steel instead of one 15cm thick slab"
   ]
  },
  {
   "cell_type": "code",
   "execution_count": null,
   "id": "e317b693-f2a1-4608-9cd1-e65a5ababf13",
   "metadata": {},
   "outputs": [],
   "source": []
  },
  {
   "cell_type": "markdown",
   "id": "8c88388a-d387-4ec5-84e0-6674cc45d785",
   "metadata": {},
   "source": [
    "Generate the radioactive source (5 now instead of just 1)"
   ]
  },
  {
   "cell_type": "code",
   "execution_count": null,
   "id": "4af475a6-1c5b-45dc-826a-37f0d29bd1a0",
   "metadata": {},
   "outputs": [],
   "source": []
  },
  {
   "cell_type": "markdown",
   "id": "70a3fc50-3d54-4d51-8cd1-5c5bfab6c359",
   "metadata": {},
   "source": [
    "Revamp for the photon transport simulations"
   ]
  },
  {
   "cell_type": "code",
   "execution_count": null,
   "id": "9cdbee74-02d3-4730-92ca-ceec66dcce11",
   "metadata": {},
   "outputs": [],
   "source": []
  },
  {
   "cell_type": "markdown",
   "id": "d90ed7ad-19e6-4d38-9149-340fdac3fead",
   "metadata": {},
   "source": [
    "woot now you know everything about R2S in OpenMC!"
   ]
  }
 ],
 "metadata": {
  "kernelspec": {
   "display_name": "Python 3 (ipykernel)",
   "language": "python",
   "name": "python3"
  },
  "language_info": {
   "codemirror_mode": {
    "name": "ipython",
    "version": 3
   },
   "file_extension": ".py",
   "mimetype": "text/x-python",
   "name": "python",
   "nbconvert_exporter": "python",
   "pygments_lexer": "ipython3",
   "version": "3.12.2"
  }
 },
 "nbformat": 4,
 "nbformat_minor": 5
}
